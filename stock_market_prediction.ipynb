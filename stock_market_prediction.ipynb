{
  "nbformat": 4,
  "nbformat_minor": 0,
  "metadata": {
    "colab": {
      "name": "stock_market_prediction.ipynb",
      "provenance": [],
      "collapsed_sections": []
    },
    "kernelspec": {
      "name": "python3",
      "display_name": "Python 3"
    },
    "language_info": {
      "name": "python"
    }
  },
  "cells": [
    {
      "cell_type": "markdown",
      "metadata": {
        "id": "YYlgV9MTZWh1"
      },
      "source": [
        "# LGMVIP Task 3 - Stock Market Prediction and Forecasting using Stack LSTM"
      ]
    },
    {
      "cell_type": "markdown",
      "metadata": {
        "id": "OPnLrMPJ8NQ2"
      },
      "source": [
        "### Import the necessary libraries"
      ]
    },
    {
      "cell_type": "code",
      "metadata": {
        "id": "ZUp2cmYMoIBZ"
      },
      "source": [
        "import math\n",
        "import numpy as np\n",
        "import pandas as pd\n",
        "import tensorflow as tf\n",
        "import pandas_datareader as pdr\n",
        "import matplotlib.pyplot as plt"
      ],
      "execution_count": 96,
      "outputs": []
    },
    {
      "cell_type": "markdown",
      "metadata": {
        "id": "T6jn_c7F8Spr"
      },
      "source": [
        "### Loading the dataset"
      ]
    },
    {
      "cell_type": "code",
      "metadata": {
        "id": "e-1_tPOU6bt5"
      },
      "source": [
        "url = \"https://raw.githubusercontent.com/mwitiderrick/stockprice/master/NSE-TATAGLOBAL.csv\"\n",
        "data = pd.read_csv(url)"
      ],
      "execution_count": 97,
      "outputs": []
    },
    {
      "cell_type": "markdown",
      "metadata": {
        "id": "2CFK3_M1fgZD"
      },
      "source": [
        "### Exploring the dataset"
      ]
    },
    {
      "cell_type": "code",
      "metadata": {
        "colab": {
          "base_uri": "https://localhost:8080/",
          "height": 203
        },
        "id": "-AR5eM3J7igf",
        "outputId": "52866c69-194e-4e76-88be-24d11515e740"
      },
      "source": [
        "data = data.sort_values(by=['Date'])\n",
        "data.head()"
      ],
      "execution_count": 98,
      "outputs": [
        {
          "output_type": "execute_result",
          "data": {
            "text/html": [
              "<div>\n",
              "<style scoped>\n",
              "    .dataframe tbody tr th:only-of-type {\n",
              "        vertical-align: middle;\n",
              "    }\n",
              "\n",
              "    .dataframe tbody tr th {\n",
              "        vertical-align: top;\n",
              "    }\n",
              "\n",
              "    .dataframe thead th {\n",
              "        text-align: right;\n",
              "    }\n",
              "</style>\n",
              "<table border=\"1\" class=\"dataframe\">\n",
              "  <thead>\n",
              "    <tr style=\"text-align: right;\">\n",
              "      <th></th>\n",
              "      <th>Date</th>\n",
              "      <th>Open</th>\n",
              "      <th>High</th>\n",
              "      <th>Low</th>\n",
              "      <th>Last</th>\n",
              "      <th>Close</th>\n",
              "      <th>Total Trade Quantity</th>\n",
              "      <th>Turnover (Lacs)</th>\n",
              "    </tr>\n",
              "  </thead>\n",
              "  <tbody>\n",
              "    <tr>\n",
              "      <th>2034</th>\n",
              "      <td>2010-07-21</td>\n",
              "      <td>122.1</td>\n",
              "      <td>123.00</td>\n",
              "      <td>121.05</td>\n",
              "      <td>121.10</td>\n",
              "      <td>121.55</td>\n",
              "      <td>658666</td>\n",
              "      <td>803.56</td>\n",
              "    </tr>\n",
              "    <tr>\n",
              "      <th>2033</th>\n",
              "      <td>2010-07-22</td>\n",
              "      <td>120.3</td>\n",
              "      <td>122.00</td>\n",
              "      <td>120.25</td>\n",
              "      <td>120.75</td>\n",
              "      <td>120.90</td>\n",
              "      <td>293312</td>\n",
              "      <td>355.17</td>\n",
              "    </tr>\n",
              "    <tr>\n",
              "      <th>2032</th>\n",
              "      <td>2010-07-23</td>\n",
              "      <td>121.8</td>\n",
              "      <td>121.95</td>\n",
              "      <td>120.25</td>\n",
              "      <td>120.35</td>\n",
              "      <td>120.65</td>\n",
              "      <td>281312</td>\n",
              "      <td>340.31</td>\n",
              "    </tr>\n",
              "    <tr>\n",
              "      <th>2031</th>\n",
              "      <td>2010-07-26</td>\n",
              "      <td>120.1</td>\n",
              "      <td>121.00</td>\n",
              "      <td>117.10</td>\n",
              "      <td>117.10</td>\n",
              "      <td>117.60</td>\n",
              "      <td>658440</td>\n",
              "      <td>780.01</td>\n",
              "    </tr>\n",
              "    <tr>\n",
              "      <th>2030</th>\n",
              "      <td>2010-07-27</td>\n",
              "      <td>117.6</td>\n",
              "      <td>119.50</td>\n",
              "      <td>112.00</td>\n",
              "      <td>118.80</td>\n",
              "      <td>118.65</td>\n",
              "      <td>586100</td>\n",
              "      <td>694.98</td>\n",
              "    </tr>\n",
              "  </tbody>\n",
              "</table>\n",
              "</div>"
            ],
            "text/plain": [
              "            Date   Open    High  ...   Close  Total Trade Quantity  Turnover (Lacs)\n",
              "2034  2010-07-21  122.1  123.00  ...  121.55                658666           803.56\n",
              "2033  2010-07-22  120.3  122.00  ...  120.90                293312           355.17\n",
              "2032  2010-07-23  121.8  121.95  ...  120.65                281312           340.31\n",
              "2031  2010-07-26  120.1  121.00  ...  117.60                658440           780.01\n",
              "2030  2010-07-27  117.6  119.50  ...  118.65                586100           694.98\n",
              "\n",
              "[5 rows x 8 columns]"
            ]
          },
          "metadata": {
            "tags": []
          },
          "execution_count": 98
        }
      ]
    },
    {
      "cell_type": "code",
      "metadata": {
        "colab": {
          "base_uri": "https://localhost:8080/",
          "height": 203
        },
        "id": "SxeaWhwYBk4X",
        "outputId": "32e1a630-552b-4f50-cf51-7eebf23d6859"
      },
      "source": [
        "data.tail()"
      ],
      "execution_count": 99,
      "outputs": [
        {
          "output_type": "execute_result",
          "data": {
            "text/html": [
              "<div>\n",
              "<style scoped>\n",
              "    .dataframe tbody tr th:only-of-type {\n",
              "        vertical-align: middle;\n",
              "    }\n",
              "\n",
              "    .dataframe tbody tr th {\n",
              "        vertical-align: top;\n",
              "    }\n",
              "\n",
              "    .dataframe thead th {\n",
              "        text-align: right;\n",
              "    }\n",
              "</style>\n",
              "<table border=\"1\" class=\"dataframe\">\n",
              "  <thead>\n",
              "    <tr style=\"text-align: right;\">\n",
              "      <th></th>\n",
              "      <th>Date</th>\n",
              "      <th>Open</th>\n",
              "      <th>High</th>\n",
              "      <th>Low</th>\n",
              "      <th>Last</th>\n",
              "      <th>Close</th>\n",
              "      <th>Total Trade Quantity</th>\n",
              "      <th>Turnover (Lacs)</th>\n",
              "    </tr>\n",
              "  </thead>\n",
              "  <tbody>\n",
              "    <tr>\n",
              "      <th>4</th>\n",
              "      <td>2018-09-24</td>\n",
              "      <td>233.55</td>\n",
              "      <td>239.20</td>\n",
              "      <td>230.75</td>\n",
              "      <td>234.00</td>\n",
              "      <td>233.30</td>\n",
              "      <td>3423509</td>\n",
              "      <td>7999.55</td>\n",
              "    </tr>\n",
              "    <tr>\n",
              "      <th>3</th>\n",
              "      <td>2018-09-25</td>\n",
              "      <td>233.30</td>\n",
              "      <td>236.75</td>\n",
              "      <td>232.00</td>\n",
              "      <td>236.25</td>\n",
              "      <td>236.10</td>\n",
              "      <td>2349368</td>\n",
              "      <td>5503.90</td>\n",
              "    </tr>\n",
              "    <tr>\n",
              "      <th>2</th>\n",
              "      <td>2018-09-26</td>\n",
              "      <td>240.00</td>\n",
              "      <td>240.00</td>\n",
              "      <td>232.50</td>\n",
              "      <td>235.00</td>\n",
              "      <td>234.25</td>\n",
              "      <td>2240909</td>\n",
              "      <td>5248.60</td>\n",
              "    </tr>\n",
              "    <tr>\n",
              "      <th>1</th>\n",
              "      <td>2018-09-27</td>\n",
              "      <td>234.55</td>\n",
              "      <td>236.80</td>\n",
              "      <td>231.10</td>\n",
              "      <td>233.80</td>\n",
              "      <td>233.25</td>\n",
              "      <td>5082859</td>\n",
              "      <td>11859.95</td>\n",
              "    </tr>\n",
              "    <tr>\n",
              "      <th>0</th>\n",
              "      <td>2018-09-28</td>\n",
              "      <td>234.05</td>\n",
              "      <td>235.95</td>\n",
              "      <td>230.20</td>\n",
              "      <td>233.50</td>\n",
              "      <td>233.75</td>\n",
              "      <td>3069914</td>\n",
              "      <td>7162.35</td>\n",
              "    </tr>\n",
              "  </tbody>\n",
              "</table>\n",
              "</div>"
            ],
            "text/plain": [
              "         Date    Open    High  ...   Close  Total Trade Quantity  Turnover (Lacs)\n",
              "4  2018-09-24  233.55  239.20  ...  233.30               3423509          7999.55\n",
              "3  2018-09-25  233.30  236.75  ...  236.10               2349368          5503.90\n",
              "2  2018-09-26  240.00  240.00  ...  234.25               2240909          5248.60\n",
              "1  2018-09-27  234.55  236.80  ...  233.25               5082859         11859.95\n",
              "0  2018-09-28  234.05  235.95  ...  233.75               3069914          7162.35\n",
              "\n",
              "[5 rows x 8 columns]"
            ]
          },
          "metadata": {
            "tags": []
          },
          "execution_count": 99
        }
      ]
    },
    {
      "cell_type": "code",
      "metadata": {
        "colab": {
          "base_uri": "https://localhost:8080/"
        },
        "id": "TIDpR-AeBu5l",
        "outputId": "c8939300-2242-4279-e58c-e7d9666ee907"
      },
      "source": [
        "data.info()"
      ],
      "execution_count": 100,
      "outputs": [
        {
          "output_type": "stream",
          "text": [
            "<class 'pandas.core.frame.DataFrame'>\n",
            "Int64Index: 2035 entries, 2034 to 0\n",
            "Data columns (total 8 columns):\n",
            " #   Column                Non-Null Count  Dtype  \n",
            "---  ------                --------------  -----  \n",
            " 0   Date                  2035 non-null   object \n",
            " 1   Open                  2035 non-null   float64\n",
            " 2   High                  2035 non-null   float64\n",
            " 3   Low                   2035 non-null   float64\n",
            " 4   Last                  2035 non-null   float64\n",
            " 5   Close                 2035 non-null   float64\n",
            " 6   Total Trade Quantity  2035 non-null   int64  \n",
            " 7   Turnover (Lacs)       2035 non-null   float64\n",
            "dtypes: float64(6), int64(1), object(1)\n",
            "memory usage: 143.1+ KB\n"
          ],
          "name": "stdout"
        }
      ]
    },
    {
      "cell_type": "code",
      "metadata": {
        "colab": {
          "base_uri": "https://localhost:8080/",
          "height": 295
        },
        "id": "1dOm4OJkBwKe",
        "outputId": "add49338-1372-40c4-b78b-614b599ba562"
      },
      "source": [
        "data.describe()"
      ],
      "execution_count": 101,
      "outputs": [
        {
          "output_type": "execute_result",
          "data": {
            "text/html": [
              "<div>\n",
              "<style scoped>\n",
              "    .dataframe tbody tr th:only-of-type {\n",
              "        vertical-align: middle;\n",
              "    }\n",
              "\n",
              "    .dataframe tbody tr th {\n",
              "        vertical-align: top;\n",
              "    }\n",
              "\n",
              "    .dataframe thead th {\n",
              "        text-align: right;\n",
              "    }\n",
              "</style>\n",
              "<table border=\"1\" class=\"dataframe\">\n",
              "  <thead>\n",
              "    <tr style=\"text-align: right;\">\n",
              "      <th></th>\n",
              "      <th>Open</th>\n",
              "      <th>High</th>\n",
              "      <th>Low</th>\n",
              "      <th>Last</th>\n",
              "      <th>Close</th>\n",
              "      <th>Total Trade Quantity</th>\n",
              "      <th>Turnover (Lacs)</th>\n",
              "    </tr>\n",
              "  </thead>\n",
              "  <tbody>\n",
              "    <tr>\n",
              "      <th>count</th>\n",
              "      <td>2035.000000</td>\n",
              "      <td>2035.000000</td>\n",
              "      <td>2035.000000</td>\n",
              "      <td>2035.000000</td>\n",
              "      <td>2035.00000</td>\n",
              "      <td>2.035000e+03</td>\n",
              "      <td>2035.000000</td>\n",
              "    </tr>\n",
              "    <tr>\n",
              "      <th>mean</th>\n",
              "      <td>149.713735</td>\n",
              "      <td>151.992826</td>\n",
              "      <td>147.293931</td>\n",
              "      <td>149.474251</td>\n",
              "      <td>149.45027</td>\n",
              "      <td>2.335681e+06</td>\n",
              "      <td>3899.980565</td>\n",
              "    </tr>\n",
              "    <tr>\n",
              "      <th>std</th>\n",
              "      <td>48.664509</td>\n",
              "      <td>49.413109</td>\n",
              "      <td>47.931958</td>\n",
              "      <td>48.732570</td>\n",
              "      <td>48.71204</td>\n",
              "      <td>2.091778e+06</td>\n",
              "      <td>4570.767877</td>\n",
              "    </tr>\n",
              "    <tr>\n",
              "      <th>min</th>\n",
              "      <td>81.100000</td>\n",
              "      <td>82.800000</td>\n",
              "      <td>80.000000</td>\n",
              "      <td>81.000000</td>\n",
              "      <td>80.95000</td>\n",
              "      <td>3.961000e+04</td>\n",
              "      <td>37.040000</td>\n",
              "    </tr>\n",
              "    <tr>\n",
              "      <th>25%</th>\n",
              "      <td>120.025000</td>\n",
              "      <td>122.100000</td>\n",
              "      <td>118.300000</td>\n",
              "      <td>120.075000</td>\n",
              "      <td>120.05000</td>\n",
              "      <td>1.146444e+06</td>\n",
              "      <td>1427.460000</td>\n",
              "    </tr>\n",
              "    <tr>\n",
              "      <th>50%</th>\n",
              "      <td>141.500000</td>\n",
              "      <td>143.400000</td>\n",
              "      <td>139.600000</td>\n",
              "      <td>141.100000</td>\n",
              "      <td>141.25000</td>\n",
              "      <td>1.783456e+06</td>\n",
              "      <td>2512.030000</td>\n",
              "    </tr>\n",
              "    <tr>\n",
              "      <th>75%</th>\n",
              "      <td>157.175000</td>\n",
              "      <td>159.400000</td>\n",
              "      <td>155.150000</td>\n",
              "      <td>156.925000</td>\n",
              "      <td>156.90000</td>\n",
              "      <td>2.813594e+06</td>\n",
              "      <td>4539.015000</td>\n",
              "    </tr>\n",
              "    <tr>\n",
              "      <th>max</th>\n",
              "      <td>327.700000</td>\n",
              "      <td>328.750000</td>\n",
              "      <td>321.650000</td>\n",
              "      <td>325.950000</td>\n",
              "      <td>325.75000</td>\n",
              "      <td>2.919102e+07</td>\n",
              "      <td>55755.080000</td>\n",
              "    </tr>\n",
              "  </tbody>\n",
              "</table>\n",
              "</div>"
            ],
            "text/plain": [
              "              Open         High  ...  Total Trade Quantity  Turnover (Lacs)\n",
              "count  2035.000000  2035.000000  ...          2.035000e+03      2035.000000\n",
              "mean    149.713735   151.992826  ...          2.335681e+06      3899.980565\n",
              "std      48.664509    49.413109  ...          2.091778e+06      4570.767877\n",
              "min      81.100000    82.800000  ...          3.961000e+04        37.040000\n",
              "25%     120.025000   122.100000  ...          1.146444e+06      1427.460000\n",
              "50%     141.500000   143.400000  ...          1.783456e+06      2512.030000\n",
              "75%     157.175000   159.400000  ...          2.813594e+06      4539.015000\n",
              "max     327.700000   328.750000  ...          2.919102e+07     55755.080000\n",
              "\n",
              "[8 rows x 7 columns]"
            ]
          },
          "metadata": {
            "tags": []
          },
          "execution_count": 101
        }
      ]
    },
    {
      "cell_type": "markdown",
      "metadata": {
        "id": "7LifeFA19PuY"
      },
      "source": [
        "### Selecting Close column for making Predictions"
      ]
    },
    {
      "cell_type": "code",
      "metadata": {
        "colab": {
          "base_uri": "https://localhost:8080/"
        },
        "id": "NxEP-EJW80sk",
        "outputId": "14385457-00e9-4b7e-bd50-370a11a8e97b"
      },
      "source": [
        "df = data.reset_index()['Close']\n",
        "df.shape"
      ],
      "execution_count": 102,
      "outputs": [
        {
          "output_type": "execute_result",
          "data": {
            "text/plain": [
              "(2035,)"
            ]
          },
          "metadata": {
            "tags": []
          },
          "execution_count": 102
        }
      ]
    },
    {
      "cell_type": "code",
      "metadata": {
        "colab": {
          "base_uri": "https://localhost:8080/"
        },
        "id": "aEX33XIZCC5u",
        "outputId": "78f532f3-bcac-43f3-c7aa-c5d09242065b"
      },
      "source": [
        "df.head()"
      ],
      "execution_count": 103,
      "outputs": [
        {
          "output_type": "execute_result",
          "data": {
            "text/plain": [
              "0    121.55\n",
              "1    120.90\n",
              "2    120.65\n",
              "3    117.60\n",
              "4    118.65\n",
              "Name: Close, dtype: float64"
            ]
          },
          "metadata": {
            "tags": []
          },
          "execution_count": 103
        }
      ]
    },
    {
      "cell_type": "code",
      "metadata": {
        "colab": {
          "base_uri": "https://localhost:8080/",
          "height": 428
        },
        "id": "Fj-r1Ndd9cwk",
        "outputId": "2515200f-8023-4629-e8f0-0513a4996ea8"
      },
      "source": [
        "plt.figure(figsize=(14, 7))\n",
        "plt.plot(df)\n",
        "plt.show()"
      ],
      "execution_count": 104,
      "outputs": [
        {
          "output_type": "display_data",
          "data": {
            "image/png": "[encoded data removed]",
            "text/plain": [
              "<Figure size 1008x504 with 1 Axes>"
            ]
          },
          "metadata": {
            "tags": [],
            "needs_background": "light"
          }
        }
      ]
    },
    {
      "cell_type": "markdown",
      "metadata": {
        "id": "L8gDKGrwfwvq"
      },
      "source": [
        "### Applying MinMaxScaler to scale the data"
      ]
    },
    {
      "cell_type": "code",
      "metadata": {
        "colab": {
          "base_uri": "https://localhost:8080/"
        },
        "id": "OOdIzDFmCfFK",
        "outputId": "a9d18f61-ea11-487a-8b70-1a1c8df069dd"
      },
      "source": [
        "from sklearn.preprocessing import MinMaxScaler\n",
        "sc = MinMaxScaler(feature_range = (0, 1))\n",
        "df = sc.fit_transform(np.array(df).reshape(-1,1))\n",
        "df.shape"
      ],
      "execution_count": 105,
      "outputs": [
        {
          "output_type": "execute_result",
          "data": {
            "text/plain": [
              "(2035, 1)"
            ]
          },
          "metadata": {
            "tags": []
          },
          "execution_count": 105
        }
      ]
    },
    {
      "cell_type": "code",
      "metadata": {
        "colab": {
          "base_uri": "https://localhost:8080/"
        },
        "id": "W6Ym07-iDdTb",
        "outputId": "0b1df864-ecb2-4de1-c65e-958b9a9fedbc"
      },
      "source": [
        "df"
      ],
      "execution_count": 106,
      "outputs": [
        {
          "output_type": "execute_result",
          "data": {
            "text/plain": [
              "array([[0.16584967],\n",
              "       [0.16319444],\n",
              "       [0.1621732 ],\n",
              "       ...,\n",
              "       [0.62622549],\n",
              "       [0.62214052],\n",
              "       [0.62418301]])"
            ]
          },
          "metadata": {
            "tags": []
          },
          "execution_count": 106
        }
      ]
    },
    {
      "cell_type": "markdown",
      "metadata": {
        "id": "84zBtRangCUR"
      },
      "source": [
        "### Splitting dataset into Training and Test set"
      ]
    },
    {
      "cell_type": "code",
      "metadata": {
        "colab": {
          "base_uri": "https://localhost:8080/"
        },
        "id": "m1vJgK22D_UP",
        "outputId": "e0827974-142c-465d-9ec7-407dff70e367"
      },
      "source": [
        "train_size = int(len(df) * 0.80)\n",
        "test_size = len(df) - train_size\n",
        "train_size, test_size"
      ],
      "execution_count": 107,
      "outputs": [
        {
          "output_type": "execute_result",
          "data": {
            "text/plain": [
              "(1628, 407)"
            ]
          },
          "metadata": {
            "tags": []
          },
          "execution_count": 107
        }
      ]
    },
    {
      "cell_type": "code",
      "metadata": {
        "id": "KORofITOExIL"
      },
      "source": [
        "train_data, test_data = df[0:train_size, :], df[train_size:len(df), :1]"
      ],
      "execution_count": 108,
      "outputs": []
    },
    {
      "cell_type": "code",
      "metadata": {
        "colab": {
          "base_uri": "https://localhost:8080/"
        },
        "id": "7IYQherDFI60",
        "outputId": "fd421bd9-d636-4724-f7e9-5b3db339135a"
      },
      "source": [
        "train_data"
      ],
      "execution_count": 109,
      "outputs": [
        {
          "output_type": "execute_result",
          "data": {
            "text/plain": [
              "array([[0.16584967],\n",
              "       [0.16319444],\n",
              "       [0.1621732 ],\n",
              "       ...,\n",
              "       [0.24877451],\n",
              "       [0.25245098],\n",
              "       [0.24795752]])"
            ]
          },
          "metadata": {
            "tags": []
          },
          "execution_count": 109
        }
      ]
    },
    {
      "cell_type": "markdown",
      "metadata": {
        "id": "s0DVwnyhgVd_"
      },
      "source": [
        "### Converting array of values to dataset matrix"
      ]
    },
    {
      "cell_type": "code",
      "metadata": {
        "id": "rjDNnx8dLZ7_"
      },
      "source": [
        "def make_dataset(data, time_step):\n",
        "\td1, d2 = [], []\n",
        "\tfor i in range(len(data)-time_step-1):  \n",
        "\t\td1.append(data[i:(i + time_step), 0])\n",
        "\t\td2.append(data[i + time_step, 0])\n",
        "\treturn np.array(d1), np.array(d2)"
      ],
      "execution_count": 110,
      "outputs": []
    },
    {
      "cell_type": "code",
      "metadata": {
        "id": "eC1U0fOnMMSx"
      },
      "source": [
        "X_train, y_train = make_dataset(train_data, 100)\n",
        "X_test, y_test = make_dataset(test_data, 100)"
      ],
      "execution_count": 111,
      "outputs": []
    },
    {
      "cell_type": "code",
      "metadata": {
        "colab": {
          "base_uri": "https://localhost:8080/"
        },
        "id": "omlvSi7HOFaP",
        "outputId": "45b6b725-276a-4d96-9318-1c283d1a09b2"
      },
      "source": [
        "print(X_train.shape), print(y_train.shape)"
      ],
      "execution_count": 112,
      "outputs": [
        {
          "output_type": "stream",
          "text": [
            "(1527, 100)\n",
            "(1527,)\n"
          ],
          "name": "stdout"
        },
        {
          "output_type": "execute_result",
          "data": {
            "text/plain": [
              "(None, None)"
            ]
          },
          "metadata": {
            "tags": []
          },
          "execution_count": 112
        }
      ]
    },
    {
      "cell_type": "code",
      "metadata": {
        "colab": {
          "base_uri": "https://localhost:8080/"
        },
        "id": "6sn1tyCLOIu1",
        "outputId": "65756b6f-b515-443d-c71d-38c46960c863"
      },
      "source": [
        "print(X_test.shape), print(y_test.shape)"
      ],
      "execution_count": 113,
      "outputs": [
        {
          "output_type": "stream",
          "text": [
            "(306, 100)\n",
            "(306,)\n"
          ],
          "name": "stdout"
        },
        {
          "output_type": "execute_result",
          "data": {
            "text/plain": [
              "(None, None)"
            ]
          },
          "metadata": {
            "tags": []
          },
          "execution_count": 113
        }
      ]
    },
    {
      "cell_type": "markdown",
      "metadata": {
        "id": "BAMz00DBjyv-"
      },
      "source": [
        "### Reshaping the input to be in [Samples, Time Steps, Features] format"
      ]
    },
    {
      "cell_type": "code",
      "metadata": {
        "id": "u_d-r0FmOlR5"
      },
      "source": [
        "X_train = X_train.reshape(X_train.shape[0], X_train.shape[1], 1)\n",
        "X_test = X_test.reshape(X_test.shape[0], X_test.shape[1], 1)"
      ],
      "execution_count": 114,
      "outputs": []
    },
    {
      "cell_type": "markdown",
      "metadata": {
        "id": "MZ0MDBAVm2KV"
      },
      "source": [
        "### Creating the LSTM model"
      ]
    },
    {
      "cell_type": "code",
      "metadata": {
        "id": "X577MEcgO2s1"
      },
      "source": [
        "from tensorflow.keras.models import Sequential\n",
        "from tensorflow.keras.layers import Dense\n",
        "from tensorflow.keras.layers import LSTM"
      ],
      "execution_count": 115,
      "outputs": []
    },
    {
      "cell_type": "code",
      "metadata": {
        "id": "689jlGK0PAtP"
      },
      "source": [
        "model = Sequential()\n",
        "model.add(LSTM(50, return_sequences = True, input_shape = (100, 1)))\n",
        "model.add(LSTM(50, return_sequences = True))\n",
        "model.add(LSTM(50))\n",
        "model.add(Dense(1))\n",
        "model.compile(loss = 'mean_squared_error', optimizer = 'adam')"
      ],
      "execution_count": 116,
      "outputs": []
    },
    {
      "cell_type": "code",
      "metadata": {
        "colab": {
          "base_uri": "https://localhost:8080/"
        },
        "id": "qNQ2ABK7QHcu",
        "outputId": "48defb6f-c870-46e3-df3f-3e63c8e715f1"
      },
      "source": [
        "model.summary()"
      ],
      "execution_count": 117,
      "outputs": [
        {
          "output_type": "stream",
          "text": [
            "Model: \"sequential_2\"\n",
            "_________________________________________________________________\n",
            "Layer (type)                 Output Shape              Param #   \n",
            "=================================================================\n",
            "lstm_6 (LSTM)                (None, 100, 50)           10400     \n",
            "_________________________________________________________________\n",
            "lstm_7 (LSTM)                (None, 100, 50)           20200     \n",
            "_________________________________________________________________\n",
            "lstm_8 (LSTM)                (None, 50)                20200     \n",
            "_________________________________________________________________\n",
            "dense_2 (Dense)              (None, 1)                 51        \n",
            "=================================================================\n",
            "Total params: 50,851\n",
            "Trainable params: 50,851\n",
            "Non-trainable params: 0\n",
            "_________________________________________________________________\n"
          ],
          "name": "stdout"
        }
      ]
    },
    {
      "cell_type": "code",
      "metadata": {
        "colab": {
          "base_uri": "https://localhost:8080/"
        },
        "id": "pTKsb707Q1Jq",
        "outputId": "cad016f1-6b0f-4728-9cd5-545b582472da"
      },
      "source": [
        "model.fit(X_train, y_train, validation_data = (X_test,y_test), epochs = 100, batch_size = 64, verbose = 1)"
      ],
      "execution_count": 118,
      "outputs": [
        {
          "output_type": "stream",
          "text": [
            "Epoch 1/100\n",
            "24/24 [==============================] - 10s 237ms/step - loss: 0.0080 - val_loss: 0.0278\n",
            "Epoch 2/100\n",
            "24/24 [==============================] - 4s 178ms/step - loss: 0.0014 - val_loss: 0.0051\n",
            "Epoch 3/100\n",
            "24/24 [==============================] - 4s 179ms/step - loss: 9.4536e-04 - val_loss: 0.0062\n",
            "Epoch 4/100\n",
            "24/24 [==============================] - 4s 175ms/step - loss: 8.8736e-04 - val_loss: 0.0042\n",
            "Epoch 5/100\n",
            "24/24 [==============================] - 4s 178ms/step - loss: 8.7503e-04 - val_loss: 0.0061\n",
            "Epoch 6/100\n",
            "24/24 [==============================] - 4s 179ms/step - loss: 8.2434e-04 - val_loss: 0.0061\n",
            "Epoch 7/100\n",
            "24/24 [==============================] - 4s 181ms/step - loss: 7.7446e-04 - val_loss: 0.0044\n",
            "Epoch 8/100\n",
            "24/24 [==============================] - 4s 184ms/step - loss: 7.1557e-04 - val_loss: 0.0054\n",
            "Epoch 9/100\n",
            "24/24 [==============================] - 4s 181ms/step - loss: 6.7636e-04 - val_loss: 0.0043\n",
            "Epoch 10/100\n",
            "24/24 [==============================] - 4s 182ms/step - loss: 6.4873e-04 - val_loss: 0.0068\n",
            "Epoch 11/100\n",
            "24/24 [==============================] - 4s 179ms/step - loss: 6.0368e-04 - val_loss: 0.0061\n",
            "Epoch 12/100\n",
            "24/24 [==============================] - 4s 179ms/step - loss: 6.1167e-04 - val_loss: 0.0100\n",
            "Epoch 13/100\n",
            "24/24 [==============================] - 4s 179ms/step - loss: 5.6093e-04 - val_loss: 0.0130\n",
            "Epoch 14/100\n",
            "24/24 [==============================] - 4s 182ms/step - loss: 5.3906e-04 - val_loss: 0.0058\n",
            "Epoch 15/100\n",
            "24/24 [==============================] - 4s 182ms/step - loss: 6.3684e-04 - val_loss: 0.0079\n",
            "Epoch 16/100\n",
            "24/24 [==============================] - 4s 181ms/step - loss: 5.5168e-04 - val_loss: 0.0124\n",
            "Epoch 17/100\n",
            "24/24 [==============================] - 4s 181ms/step - loss: 5.0855e-04 - val_loss: 0.0118\n",
            "Epoch 18/100\n",
            "24/24 [==============================] - 4s 183ms/step - loss: 4.7193e-04 - val_loss: 0.0158\n",
            "Epoch 19/100\n",
            "24/24 [==============================] - 4s 183ms/step - loss: 4.8849e-04 - val_loss: 0.0191\n",
            "Epoch 20/100\n",
            "24/24 [==============================] - 4s 182ms/step - loss: 4.4972e-04 - val_loss: 0.0101\n",
            "Epoch 21/100\n",
            "24/24 [==============================] - 4s 183ms/step - loss: 4.3856e-04 - val_loss: 0.0089\n",
            "Epoch 22/100\n",
            "24/24 [==============================] - 4s 183ms/step - loss: 4.2405e-04 - val_loss: 0.0100\n",
            "Epoch 23/100\n",
            "24/24 [==============================] - 4s 183ms/step - loss: 4.0788e-04 - val_loss: 0.0135\n",
            "Epoch 24/100\n",
            "24/24 [==============================] - 4s 186ms/step - loss: 4.9775e-04 - val_loss: 0.0138\n",
            "Epoch 25/100\n",
            "24/24 [==============================] - 4s 184ms/step - loss: 4.0898e-04 - val_loss: 0.0083\n",
            "Epoch 26/100\n",
            "24/24 [==============================] - 4s 181ms/step - loss: 4.0008e-04 - val_loss: 0.0035\n",
            "Epoch 27/100\n",
            "24/24 [==============================] - 4s 180ms/step - loss: 4.0069e-04 - val_loss: 0.0070\n",
            "Epoch 28/100\n",
            "24/24 [==============================] - 4s 182ms/step - loss: 3.5929e-04 - val_loss: 0.0097\n",
            "Epoch 29/100\n",
            "24/24 [==============================] - 4s 180ms/step - loss: 3.5205e-04 - val_loss: 0.0086\n",
            "Epoch 30/100\n",
            "24/24 [==============================] - 4s 180ms/step - loss: 3.6237e-04 - val_loss: 0.0077\n",
            "Epoch 31/100\n",
            "24/24 [==============================] - 4s 181ms/step - loss: 3.2372e-04 - val_loss: 0.0082\n",
            "Epoch 32/100\n",
            "24/24 [==============================] - 4s 181ms/step - loss: 3.0909e-04 - val_loss: 0.0086\n",
            "Epoch 33/100\n",
            "24/24 [==============================] - 4s 181ms/step - loss: 3.0722e-04 - val_loss: 0.0085\n",
            "Epoch 34/100\n",
            "24/24 [==============================] - 4s 179ms/step - loss: 3.0524e-04 - val_loss: 0.0053\n",
            "Epoch 35/100\n",
            "24/24 [==============================] - 4s 180ms/step - loss: 2.8560e-04 - val_loss: 0.0081\n",
            "Epoch 36/100\n",
            "24/24 [==============================] - 4s 180ms/step - loss: 2.9566e-04 - val_loss: 0.0082\n",
            "Epoch 37/100\n",
            "24/24 [==============================] - 4s 181ms/step - loss: 2.7268e-04 - val_loss: 0.0059\n",
            "Epoch 38/100\n",
            "24/24 [==============================] - 4s 180ms/step - loss: 2.6270e-04 - val_loss: 0.0055\n",
            "Epoch 39/100\n",
            "24/24 [==============================] - 4s 181ms/step - loss: 2.5811e-04 - val_loss: 0.0026\n",
            "Epoch 40/100\n",
            "24/24 [==============================] - 4s 180ms/step - loss: 2.6337e-04 - val_loss: 0.0025\n",
            "Epoch 41/100\n",
            "24/24 [==============================] - 4s 180ms/step - loss: 2.5145e-04 - val_loss: 0.0049\n",
            "Epoch 42/100\n",
            "24/24 [==============================] - 4s 181ms/step - loss: 2.3706e-04 - val_loss: 0.0044\n",
            "Epoch 43/100\n",
            "24/24 [==============================] - 4s 181ms/step - loss: 2.4060e-04 - val_loss: 0.0030\n",
            "Epoch 44/100\n",
            "24/24 [==============================] - 4s 180ms/step - loss: 2.6048e-04 - val_loss: 0.0074\n",
            "Epoch 45/100\n",
            "24/24 [==============================] - 4s 180ms/step - loss: 2.3227e-04 - val_loss: 0.0039\n",
            "Epoch 46/100\n",
            "24/24 [==============================] - 4s 181ms/step - loss: 2.1811e-04 - val_loss: 0.0029\n",
            "Epoch 47/100\n",
            "24/24 [==============================] - 4s 181ms/step - loss: 2.2825e-04 - val_loss: 0.0038\n",
            "Epoch 48/100\n",
            "24/24 [==============================] - 4s 182ms/step - loss: 2.2055e-04 - val_loss: 0.0054\n",
            "Epoch 49/100\n",
            "24/24 [==============================] - 4s 183ms/step - loss: 2.1961e-04 - val_loss: 0.0030\n",
            "Epoch 50/100\n",
            "24/24 [==============================] - 4s 183ms/step - loss: 2.0125e-04 - val_loss: 0.0037\n",
            "Epoch 51/100\n",
            "24/24 [==============================] - 4s 180ms/step - loss: 2.0670e-04 - val_loss: 0.0021\n",
            "Epoch 52/100\n",
            "24/24 [==============================] - 4s 182ms/step - loss: 1.9526e-04 - val_loss: 0.0048\n",
            "Epoch 53/100\n",
            "24/24 [==============================] - 4s 182ms/step - loss: 2.0618e-04 - val_loss: 0.0034\n",
            "Epoch 54/100\n",
            "24/24 [==============================] - 4s 181ms/step - loss: 1.9603e-04 - val_loss: 0.0023\n",
            "Epoch 55/100\n",
            "24/24 [==============================] - 4s 182ms/step - loss: 1.7905e-04 - val_loss: 0.0022\n",
            "Epoch 56/100\n",
            "24/24 [==============================] - 4s 182ms/step - loss: 1.9051e-04 - val_loss: 0.0012\n",
            "Epoch 57/100\n",
            "24/24 [==============================] - 4s 180ms/step - loss: 1.9462e-04 - val_loss: 0.0018\n",
            "Epoch 58/100\n",
            "24/24 [==============================] - 4s 180ms/step - loss: 1.8122e-04 - val_loss: 0.0021\n",
            "Epoch 59/100\n",
            "24/24 [==============================] - 4s 179ms/step - loss: 1.9509e-04 - val_loss: 0.0013\n",
            "Epoch 60/100\n",
            "24/24 [==============================] - 4s 179ms/step - loss: 1.9808e-04 - val_loss: 0.0016\n",
            "Epoch 61/100\n",
            "24/24 [==============================] - 4s 179ms/step - loss: 1.6817e-04 - val_loss: 0.0028\n",
            "Epoch 62/100\n",
            "24/24 [==============================] - 4s 179ms/step - loss: 1.6118e-04 - val_loss: 0.0040\n",
            "Epoch 63/100\n",
            "24/24 [==============================] - 4s 181ms/step - loss: 1.6395e-04 - val_loss: 0.0013\n",
            "Epoch 64/100\n",
            "24/24 [==============================] - 4s 181ms/step - loss: 1.7882e-04 - val_loss: 0.0020\n",
            "Epoch 65/100\n",
            "24/24 [==============================] - 4s 181ms/step - loss: 1.5810e-04 - val_loss: 0.0018\n",
            "Epoch 66/100\n",
            "24/24 [==============================] - 4s 180ms/step - loss: 1.5129e-04 - val_loss: 0.0026\n",
            "Epoch 67/100\n",
            "24/24 [==============================] - 4s 179ms/step - loss: 1.7903e-04 - val_loss: 0.0048\n",
            "Epoch 68/100\n",
            "24/24 [==============================] - 4s 181ms/step - loss: 1.8009e-04 - val_loss: 0.0045\n",
            "Epoch 69/100\n",
            "24/24 [==============================] - 4s 179ms/step - loss: 1.4795e-04 - val_loss: 0.0017\n",
            "Epoch 70/100\n",
            "24/24 [==============================] - 4s 181ms/step - loss: 1.4926e-04 - val_loss: 0.0033\n",
            "Epoch 71/100\n",
            "24/24 [==============================] - 4s 179ms/step - loss: 1.4434e-04 - val_loss: 0.0022\n",
            "Epoch 72/100\n",
            "24/24 [==============================] - 4s 180ms/step - loss: 1.5002e-04 - val_loss: 0.0034\n",
            "Epoch 73/100\n",
            "24/24 [==============================] - 4s 180ms/step - loss: 1.4584e-04 - val_loss: 0.0022\n",
            "Epoch 74/100\n",
            "24/24 [==============================] - 4s 182ms/step - loss: 1.5017e-04 - val_loss: 0.0015\n",
            "Epoch 75/100\n",
            "24/24 [==============================] - 4s 181ms/step - loss: 1.4196e-04 - val_loss: 0.0024\n",
            "Epoch 76/100\n",
            "24/24 [==============================] - 4s 179ms/step - loss: 1.3985e-04 - val_loss: 0.0027\n",
            "Epoch 77/100\n",
            "24/24 [==============================] - 4s 181ms/step - loss: 1.3856e-04 - val_loss: 0.0038\n",
            "Epoch 78/100\n",
            "24/24 [==============================] - 4s 180ms/step - loss: 1.4500e-04 - val_loss: 0.0024\n",
            "Epoch 79/100\n",
            "24/24 [==============================] - 4s 180ms/step - loss: 1.4450e-04 - val_loss: 0.0023\n",
            "Epoch 80/100\n",
            "24/24 [==============================] - 4s 181ms/step - loss: 1.4363e-04 - val_loss: 0.0021\n",
            "Epoch 81/100\n",
            "24/24 [==============================] - 4s 181ms/step - loss: 1.6760e-04 - val_loss: 0.0035\n",
            "Epoch 82/100\n",
            "24/24 [==============================] - 4s 183ms/step - loss: 1.5075e-04 - val_loss: 0.0017\n",
            "Epoch 83/100\n",
            "24/24 [==============================] - 4s 181ms/step - loss: 1.4778e-04 - val_loss: 0.0020\n",
            "Epoch 84/100\n",
            "24/24 [==============================] - 4s 182ms/step - loss: 1.2888e-04 - val_loss: 0.0036\n",
            "Epoch 85/100\n",
            "24/24 [==============================] - 4s 179ms/step - loss: 1.3211e-04 - val_loss: 0.0022\n",
            "Epoch 86/100\n",
            "24/24 [==============================] - 4s 184ms/step - loss: 1.3933e-04 - val_loss: 0.0028\n",
            "Epoch 87/100\n",
            "24/24 [==============================] - 4s 182ms/step - loss: 1.2900e-04 - val_loss: 0.0027\n",
            "Epoch 88/100\n",
            "24/24 [==============================] - 4s 183ms/step - loss: 1.4488e-04 - val_loss: 0.0022\n",
            "Epoch 89/100\n",
            "24/24 [==============================] - 4s 182ms/step - loss: 1.4026e-04 - val_loss: 0.0025\n",
            "Epoch 90/100\n",
            "24/24 [==============================] - 4s 183ms/step - loss: 1.3383e-04 - val_loss: 0.0029\n",
            "Epoch 91/100\n",
            "24/24 [==============================] - 4s 183ms/step - loss: 1.3649e-04 - val_loss: 0.0033\n",
            "Epoch 92/100\n",
            "24/24 [==============================] - 4s 184ms/step - loss: 1.2607e-04 - val_loss: 0.0022\n",
            "Epoch 93/100\n",
            "24/24 [==============================] - 4s 182ms/step - loss: 1.2815e-04 - val_loss: 0.0018\n",
            "Epoch 94/100\n",
            "24/24 [==============================] - 4s 182ms/step - loss: 1.3895e-04 - val_loss: 0.0030\n",
            "Epoch 95/100\n",
            "24/24 [==============================] - 4s 180ms/step - loss: 1.2863e-04 - val_loss: 0.0034\n",
            "Epoch 96/100\n",
            "24/24 [==============================] - 4s 181ms/step - loss: 1.3200e-04 - val_loss: 0.0033\n",
            "Epoch 97/100\n",
            "24/24 [==============================] - 4s 182ms/step - loss: 1.3688e-04 - val_loss: 0.0026\n",
            "Epoch 98/100\n",
            "24/24 [==============================] - 4s 179ms/step - loss: 1.3295e-04 - val_loss: 0.0027\n",
            "Epoch 99/100\n",
            "24/24 [==============================] - 4s 181ms/step - loss: 1.3169e-04 - val_loss: 0.0034\n",
            "Epoch 100/100\n",
            "24/24 [==============================] - 4s 180ms/step - loss: 1.5282e-04 - val_loss: 0.0018\n"
          ],
          "name": "stdout"
        },
        {
          "output_type": "execute_result",
          "data": {
            "text/plain": [
              "<tensorflow.python.keras.callbacks.History at 0x7ff41463d350>"
            ]
          },
          "metadata": {
            "tags": []
          },
          "execution_count": 118
        }
      ]
    },
    {
      "cell_type": "markdown",
      "metadata": {
        "id": "CJfj77CundYU"
      },
      "source": [
        "### Making predictions for training and test data"
      ]
    },
    {
      "cell_type": "code",
      "metadata": {
        "id": "h4xwSuQcUvD7"
      },
      "source": [
        "train_pred = sc.inverse_transform(model.predict(X_train))\n",
        "test_pred = sc.inverse_transform(model.predict(X_test))"
      ],
      "execution_count": 119,
      "outputs": []
    },
    {
      "cell_type": "markdown",
      "metadata": {
        "id": "qYW__SoDoil3"
      },
      "source": [
        "### Calculating RMSE for train and test data"
      ]
    },
    {
      "cell_type": "code",
      "metadata": {
        "colab": {
          "base_uri": "https://localhost:8080/"
        },
        "id": "5bPEdcgnV0eU",
        "outputId": "6c177775-d4e6-453b-98f7-6fd75547ce1e"
      },
      "source": [
        "from sklearn.metrics import mean_squared_error\n",
        "math.sqrt(mean_squared_error(y_train, train_pred)), math.sqrt(mean_squared_error(y_test, test_pred))"
      ],
      "execution_count": 120,
      "outputs": [
        {
          "output_type": "execute_result",
          "data": {
            "text/plain": [
              "(134.71058202969238, 244.42157156899125)"
            ]
          },
          "metadata": {
            "tags": []
          },
          "execution_count": 120
        }
      ]
    },
    {
      "cell_type": "markdown",
      "metadata": {
        "id": "6YyNVTRhot2E"
      },
      "source": [
        "### Plotting training and test data predictions "
      ]
    },
    {
      "cell_type": "code",
      "metadata": {
        "id": "r4TUlVq2WhlM"
      },
      "source": [
        "look_back = 100\n",
        "trainPredPlot = np.empty_like(df)\n",
        "trainPredPlot[:, :] = np.nan\n",
        "trainPredPlot[look_back:len(train_pred) + look_back, :] = train_pred"
      ],
      "execution_count": 121,
      "outputs": []
    },
    {
      "cell_type": "code",
      "metadata": {
        "id": "yOaHmxqGXRoZ"
      },
      "source": [
        "testPredPlot = np.empty_like(df)\n",
        "testPredPlot[:, :] = np.nan\n",
        "testPredPlot[len(train_pred) + (look_back*2) + 1:len(df) - 1, :] = test_pred"
      ],
      "execution_count": 122,
      "outputs": []
    },
    {
      "cell_type": "code",
      "metadata": {
        "colab": {
          "base_uri": "https://localhost:8080/",
          "height": 428
        },
        "id": "np3JgtoKZfw-",
        "outputId": "2c58d212-ea51-4326-82ee-7789584821ca"
      },
      "source": [
        "plt.figure(figsize=(14, 7))\n",
        "plt.plot(sc.inverse_transform(df))\n",
        "plt.plot(trainPredPlot)\n",
        "plt.plot(testPredPlot)\n",
        "plt.show()"
      ],
      "execution_count": 123,
      "outputs": [
        {
          "output_type": "display_data",
          "data": {
            "image/png": "[encoded data removed]",
            "text/plain": [
              "<Figure size 1008x504 with 1 Axes>"
            ]
          },
          "metadata": {
            "tags": [],
            "needs_background": "light"
          }
        }
      ]
    },
    {
      "cell_type": "code",
      "metadata": {
        "colab": {
          "base_uri": "https://localhost:8080/"
        },
        "id": "kxrgdpTindoG",
        "outputId": "07aeb832-2371-4122-b68b-549eaaee3ff7"
      },
      "source": [
        "len(test_data)"
      ],
      "execution_count": 124,
      "outputs": [
        {
          "output_type": "execute_result",
          "data": {
            "text/plain": [
              "407"
            ]
          },
          "metadata": {
            "tags": []
          },
          "execution_count": 124
        }
      ]
    },
    {
      "cell_type": "code",
      "metadata": {
        "colab": {
          "base_uri": "https://localhost:8080/"
        },
        "id": "YXbhYi0vn38w",
        "outputId": "922672c8-e0b8-4c7b-b034-9de43255afa8"
      },
      "source": [
        "X_input = test_data[307:].reshape(1,-1)\n",
        "X_input.shape"
      ],
      "execution_count": 125,
      "outputs": [
        {
          "output_type": "execute_result",
          "data": {
            "text/plain": [
              "(1, 100)"
            ]
          },
          "metadata": {
            "tags": []
          },
          "execution_count": 125
        }
      ]
    },
    {
      "cell_type": "code",
      "metadata": {
        "id": "5Mj2Nx1woFzI"
      },
      "source": [
        "temp = list(X_input)\n",
        "temp = temp[0].tolist()"
      ],
      "execution_count": 126,
      "outputs": []
    },
    {
      "cell_type": "code",
      "metadata": {
        "colab": {
          "base_uri": "https://localhost:8080/"
        },
        "id": "UoBSFcDgoVJE",
        "outputId": "d8a69a3c-2111-4e2a-dd92-1a1de1ab1420"
      },
      "source": [
        "temp"
      ],
      "execution_count": 127,
      "outputs": [
        {
          "output_type": "execute_result",
          "data": {
            "text/plain": [
              "[0.8527369281045751,\n",
              " 0.8621323529411764,\n",
              " 0.8345588235294117,\n",
              " 0.84375,\n",
              " 0.7146650326797386,\n",
              " 0.6605392156862745,\n",
              " 0.6542075163398693,\n",
              " 0.6803513071895424,\n",
              " 0.6689133986928104,\n",
              " 0.6642156862745099,\n",
              " 0.678921568627451,\n",
              " 0.6913807189542482,\n",
              " 0.7089460784313726,\n",
              " 0.7226307189542485,\n",
              " 0.7340686274509802,\n",
              " 0.7212009803921569,\n",
              " 0.749795751633987,\n",
              " 0.7689950980392157,\n",
              " 0.7446895424836601,\n",
              " 0.7120098039215685,\n",
              " 0.7467320261437909,\n",
              " 0.7549019607843137,\n",
              " 0.7604166666666667,\n",
              " 0.7598039215686274,\n",
              " 0.7465277777777777,\n",
              " 0.7624591503267975,\n",
              " 0.7706290849673203,\n",
              " 0.8041258169934642,\n",
              " 0.7810457516339868,\n",
              " 0.7941176470588236,\n",
              " 0.7602124183006536,\n",
              " 0.7348856209150327,\n",
              " 0.7240604575163399,\n",
              " 0.7399918300653596,\n",
              " 0.749795751633987,\n",
              " 0.7614379084967322,\n",
              " 0.7542892156862746,\n",
              " 0.7475490196078431,\n",
              " 0.769607843137255,\n",
              " 0.7495915032679739,\n",
              " 0.8171977124183007,\n",
              " 0.8020833333333335,\n",
              " 0.7773692810457518,\n",
              " 0.7571486928104576,\n",
              " 0.7937091503267975,\n",
              " 0.7916666666666667,\n",
              " 0.7714460784313726,\n",
              " 0.7526552287581698,\n",
              " 0.7269199346405228,\n",
              " 0.6629901960784313,\n",
              " 0.6819852941176472,\n",
              " 0.6441993464052288,\n",
              " 0.6215277777777778,\n",
              " 0.6439950980392156,\n",
              " 0.6631944444444445,\n",
              " 0.6754493464052289,\n",
              " 0.6370506535947713,\n",
              " 0.6460375816993464,\n",
              " 0.6589052287581699,\n",
              " 0.6587009803921569,\n",
              " 0.6779003267973858,\n",
              " 0.6319444444444445,\n",
              " 0.6311274509803921,\n",
              " 0.627859477124183,\n",
              " 0.647671568627451,\n",
              " 0.6399101307189542,\n",
              " 0.6348039215686274,\n",
              " 0.6386846405228759,\n",
              " 0.6233660130718954,\n",
              " 0.627450980392157,\n",
              " 0.6397058823529412,\n",
              " 0.6470588235294118,\n",
              " 0.661968954248366,\n",
              " 0.6707516339869282,\n",
              " 0.6519607843137255,\n",
              " 0.6311274509803921,\n",
              " 0.6129493464052288,\n",
              " 0.6376633986928105,\n",
              " 0.6225490196078431,\n",
              " 0.627450980392157,\n",
              " 0.6333741830065359,\n",
              " 0.6264297385620916,\n",
              " 0.6362336601307189,\n",
              " 0.5831290849673202,\n",
              " 0.5778186274509804,\n",
              " 0.5723039215686275,\n",
              " 0.5800653594771241,\n",
              " 0.5761846405228758,\n",
              " 0.5516748366013072,\n",
              " 0.5788398692810458,\n",
              " 0.625,\n",
              " 0.6358251633986928,\n",
              " 0.6294934640522877,\n",
              " 0.6288807189542484,\n",
              " 0.6276552287581699,\n",
              " 0.6223447712418301,\n",
              " 0.6337826797385621,\n",
              " 0.6262254901960784,\n",
              " 0.622140522875817,\n",
              " 0.6241830065359477]"
            ]
          },
          "metadata": {
            "tags": []
          },
          "execution_count": 127
        }
      ]
    },
    {
      "cell_type": "markdown",
      "metadata": {
        "id": "ipsLJlOrpDvp"
      },
      "source": [
        "### Getting predictions for next 30 days"
      ]
    },
    {
      "cell_type": "code",
      "metadata": {
        "colab": {
          "base_uri": "https://localhost:8080/"
        },
        "id": "QXF11aMroYki",
        "outputId": "041a6933-34a4-4ffc-a972-380ac1946886"
      },
      "source": [
        "list_output = []\n",
        "num_steps=100\n",
        "i = 0\n",
        "while (i < 30):\n",
        "    if(len(temp) > 100):\n",
        "        X_input = np.array(temp[1:])\n",
        "        print(\"Day {} input {}\".format(i, X_input))\n",
        "        X_input = X_input.reshape(1,-1)\n",
        "        X_input = X_input.reshape((1, num_steps, 1))\n",
        "        yhat = model.predict(X_input, verbose = 0)\n",
        "        print(\"Day {} output {}\".format(i, yhat))\n",
        "        temp.extend(yhat[0].tolist())\n",
        "        temp = temp[1:]\n",
        "        list_output.extend(yhat.tolist())\n",
        "        i = i + 1\n",
        "    else:\n",
        "        X_input = X_input.reshape((1, num_steps, 1))\n",
        "        yhat = model.predict(X_input, verbose = 0)\n",
        "        print(yhat[0])\n",
        "        temp.extend(yhat[0].tolist())\n",
        "        print(len(temp))\n",
        "        list_output.extend(yhat.tolist())\n",
        "        i = i + 1\n",
        "\n",
        "print(list_output)"
      ],
      "execution_count": 128,
      "outputs": [
        {
          "output_type": "stream",
          "text": [
            "[0.61993384]\n",
            "101\n",
            "Day 1 input [0.86213235 0.83455882 0.84375    0.71466503 0.66053922 0.65420752\n",
            " 0.68035131 0.6689134  0.66421569 0.67892157 0.69138072 0.70894608\n",
            " 0.72263072 0.73406863 0.72120098 0.74979575 0.7689951  0.74468954\n",
            " 0.7120098  0.74673203 0.75490196 0.76041667 0.75980392 0.74652778\n",
            " 0.76245915 0.77062908 0.80412582 0.78104575 0.79411765 0.76021242\n",
            " 0.73488562 0.72406046 0.73999183 0.74979575 0.76143791 0.75428922\n",
            " 0.74754902 0.76960784 0.7495915  0.81719771 0.80208333 0.77736928\n",
            " 0.75714869 0.79370915 0.79166667 0.77144608 0.75265523 0.72691993\n",
            " 0.6629902  0.68198529 0.64419935 0.62152778 0.6439951  0.66319444\n",
            " 0.67544935 0.63705065 0.64603758 0.65890523 0.65870098 0.67790033\n",
            " 0.63194444 0.63112745 0.62785948 0.64767157 0.63991013 0.63480392\n",
            " 0.63868464 0.62336601 0.62745098 0.63970588 0.64705882 0.66196895\n",
            " 0.67075163 0.65196078 0.63112745 0.61294935 0.6376634  0.62254902\n",
            " 0.62745098 0.63337418 0.62642974 0.63623366 0.58312908 0.57781863\n",
            " 0.57230392 0.58006536 0.57618464 0.55167484 0.57883987 0.625\n",
            " 0.63582516 0.62949346 0.62888072 0.62765523 0.62234477 0.63378268\n",
            " 0.62622549 0.62214052 0.62418301 0.61993384]\n",
            "Day 1 output [[0.6052962]]\n",
            "Day 2 input [0.83455882 0.84375    0.71466503 0.66053922 0.65420752 0.68035131\n",
            " 0.6689134  0.66421569 0.67892157 0.69138072 0.70894608 0.72263072\n",
            " 0.73406863 0.72120098 0.74979575 0.7689951  0.74468954 0.7120098\n",
            " 0.74673203 0.75490196 0.76041667 0.75980392 0.74652778 0.76245915\n",
            " 0.77062908 0.80412582 0.78104575 0.79411765 0.76021242 0.73488562\n",
            " 0.72406046 0.73999183 0.74979575 0.76143791 0.75428922 0.74754902\n",
            " 0.76960784 0.7495915  0.81719771 0.80208333 0.77736928 0.75714869\n",
            " 0.79370915 0.79166667 0.77144608 0.75265523 0.72691993 0.6629902\n",
            " 0.68198529 0.64419935 0.62152778 0.6439951  0.66319444 0.67544935\n",
            " 0.63705065 0.64603758 0.65890523 0.65870098 0.67790033 0.63194444\n",
            " 0.63112745 0.62785948 0.64767157 0.63991013 0.63480392 0.63868464\n",
            " 0.62336601 0.62745098 0.63970588 0.64705882 0.66196895 0.67075163\n",
            " 0.65196078 0.63112745 0.61294935 0.6376634  0.62254902 0.62745098\n",
            " 0.63337418 0.62642974 0.63623366 0.58312908 0.57781863 0.57230392\n",
            " 0.58006536 0.57618464 0.55167484 0.57883987 0.625      0.63582516\n",
            " 0.62949346 0.62888072 0.62765523 0.62234477 0.63378268 0.62622549\n",
            " 0.62214052 0.62418301 0.61993384 0.60529619]\n",
            "Day 2 output [[0.585953]]\n",
            "Day 3 input [0.84375    0.71466503 0.66053922 0.65420752 0.68035131 0.6689134\n",
            " 0.66421569 0.67892157 0.69138072 0.70894608 0.72263072 0.73406863\n",
            " 0.72120098 0.74979575 0.7689951  0.74468954 0.7120098  0.74673203\n",
            " 0.75490196 0.76041667 0.75980392 0.74652778 0.76245915 0.77062908\n",
            " 0.80412582 0.78104575 0.79411765 0.76021242 0.73488562 0.72406046\n",
            " 0.73999183 0.74979575 0.76143791 0.75428922 0.74754902 0.76960784\n",
            " 0.7495915  0.81719771 0.80208333 0.77736928 0.75714869 0.79370915\n",
            " 0.79166667 0.77144608 0.75265523 0.72691993 0.6629902  0.68198529\n",
            " 0.64419935 0.62152778 0.6439951  0.66319444 0.67544935 0.63705065\n",
            " 0.64603758 0.65890523 0.65870098 0.67790033 0.63194444 0.63112745\n",
            " 0.62785948 0.64767157 0.63991013 0.63480392 0.63868464 0.62336601\n",
            " 0.62745098 0.63970588 0.64705882 0.66196895 0.67075163 0.65196078\n",
            " 0.63112745 0.61294935 0.6376634  0.62254902 0.62745098 0.63337418\n",
            " 0.62642974 0.63623366 0.58312908 0.57781863 0.57230392 0.58006536\n",
            " 0.57618464 0.55167484 0.57883987 0.625      0.63582516 0.62949346\n",
            " 0.62888072 0.62765523 0.62234477 0.63378268 0.62622549 0.62214052\n",
            " 0.62418301 0.61993384 0.60529619 0.585953  ]\n",
            "Day 3 output [[0.5723873]]\n",
            "Day 4 input [0.71466503 0.66053922 0.65420752 0.68035131 0.6689134  0.66421569\n",
            " 0.67892157 0.69138072 0.70894608 0.72263072 0.73406863 0.72120098\n",
            " 0.74979575 0.7689951  0.74468954 0.7120098  0.74673203 0.75490196\n",
            " 0.76041667 0.75980392 0.74652778 0.76245915 0.77062908 0.80412582\n",
            " 0.78104575 0.79411765 0.76021242 0.73488562 0.72406046 0.73999183\n",
            " 0.74979575 0.76143791 0.75428922 0.74754902 0.76960784 0.7495915\n",
            " 0.81719771 0.80208333 0.77736928 0.75714869 0.79370915 0.79166667\n",
            " 0.77144608 0.75265523 0.72691993 0.6629902  0.68198529 0.64419935\n",
            " 0.62152778 0.6439951  0.66319444 0.67544935 0.63705065 0.64603758\n",
            " 0.65890523 0.65870098 0.67790033 0.63194444 0.63112745 0.62785948\n",
            " 0.64767157 0.63991013 0.63480392 0.63868464 0.62336601 0.62745098\n",
            " 0.63970588 0.64705882 0.66196895 0.67075163 0.65196078 0.63112745\n",
            " 0.61294935 0.6376634  0.62254902 0.62745098 0.63337418 0.62642974\n",
            " 0.63623366 0.58312908 0.57781863 0.57230392 0.58006536 0.57618464\n",
            " 0.55167484 0.57883987 0.625      0.63582516 0.62949346 0.62888072\n",
            " 0.62765523 0.62234477 0.63378268 0.62622549 0.62214052 0.62418301\n",
            " 0.61993384 0.60529619 0.585953   0.57238728]\n",
            "Day 4 output [[0.5651731]]\n",
            "Day 5 input [0.66053922 0.65420752 0.68035131 0.6689134  0.66421569 0.67892157\n",
            " 0.69138072 0.70894608 0.72263072 0.73406863 0.72120098 0.74979575\n",
            " 0.7689951  0.74468954 0.7120098  0.74673203 0.75490196 0.76041667\n",
            " 0.75980392 0.74652778 0.76245915 0.77062908 0.80412582 0.78104575\n",
            " 0.79411765 0.76021242 0.73488562 0.72406046 0.73999183 0.74979575\n",
            " 0.76143791 0.75428922 0.74754902 0.76960784 0.7495915  0.81719771\n",
            " 0.80208333 0.77736928 0.75714869 0.79370915 0.79166667 0.77144608\n",
            " 0.75265523 0.72691993 0.6629902  0.68198529 0.64419935 0.62152778\n",
            " 0.6439951  0.66319444 0.67544935 0.63705065 0.64603758 0.65890523\n",
            " 0.65870098 0.67790033 0.63194444 0.63112745 0.62785948 0.64767157\n",
            " 0.63991013 0.63480392 0.63868464 0.62336601 0.62745098 0.63970588\n",
            " 0.64705882 0.66196895 0.67075163 0.65196078 0.63112745 0.61294935\n",
            " 0.6376634  0.62254902 0.62745098 0.63337418 0.62642974 0.63623366\n",
            " 0.58312908 0.57781863 0.57230392 0.58006536 0.57618464 0.55167484\n",
            " 0.57883987 0.625      0.63582516 0.62949346 0.62888072 0.62765523\n",
            " 0.62234477 0.63378268 0.62622549 0.62214052 0.62418301 0.61993384\n",
            " 0.60529619 0.585953   0.57238728 0.56517309]\n",
            "Day 5 output [[0.5599867]]\n",
            "Day 6 input [0.65420752 0.68035131 0.6689134  0.66421569 0.67892157 0.69138072\n",
            " 0.70894608 0.72263072 0.73406863 0.72120098 0.74979575 0.7689951\n",
            " 0.74468954 0.7120098  0.74673203 0.75490196 0.76041667 0.75980392\n",
            " 0.74652778 0.76245915 0.77062908 0.80412582 0.78104575 0.79411765\n",
            " 0.76021242 0.73488562 0.72406046 0.73999183 0.74979575 0.76143791\n",
            " 0.75428922 0.74754902 0.76960784 0.7495915  0.81719771 0.80208333\n",
            " 0.77736928 0.75714869 0.79370915 0.79166667 0.77144608 0.75265523\n",
            " 0.72691993 0.6629902  0.68198529 0.64419935 0.62152778 0.6439951\n",
            " 0.66319444 0.67544935 0.63705065 0.64603758 0.65890523 0.65870098\n",
            " 0.67790033 0.63194444 0.63112745 0.62785948 0.64767157 0.63991013\n",
            " 0.63480392 0.63868464 0.62336601 0.62745098 0.63970588 0.64705882\n",
            " 0.66196895 0.67075163 0.65196078 0.63112745 0.61294935 0.6376634\n",
            " 0.62254902 0.62745098 0.63337418 0.62642974 0.63623366 0.58312908\n",
            " 0.57781863 0.57230392 0.58006536 0.57618464 0.55167484 0.57883987\n",
            " 0.625      0.63582516 0.62949346 0.62888072 0.62765523 0.62234477\n",
            " 0.63378268 0.62622549 0.62214052 0.62418301 0.61993384 0.60529619\n",
            " 0.585953   0.57238728 0.56517309 0.55998671]\n",
            "Day 6 output [[0.5545085]]\n",
            "Day 7 input [0.68035131 0.6689134  0.66421569 0.67892157 0.69138072 0.70894608\n",
            " 0.72263072 0.73406863 0.72120098 0.74979575 0.7689951  0.74468954\n",
            " 0.7120098  0.74673203 0.75490196 0.76041667 0.75980392 0.74652778\n",
            " 0.76245915 0.77062908 0.80412582 0.78104575 0.79411765 0.76021242\n",
            " 0.73488562 0.72406046 0.73999183 0.74979575 0.76143791 0.75428922\n",
            " 0.74754902 0.76960784 0.7495915  0.81719771 0.80208333 0.77736928\n",
            " 0.75714869 0.79370915 0.79166667 0.77144608 0.75265523 0.72691993\n",
            " 0.6629902  0.68198529 0.64419935 0.62152778 0.6439951  0.66319444\n",
            " 0.67544935 0.63705065 0.64603758 0.65890523 0.65870098 0.67790033\n",
            " 0.63194444 0.63112745 0.62785948 0.64767157 0.63991013 0.63480392\n",
            " 0.63868464 0.62336601 0.62745098 0.63970588 0.64705882 0.66196895\n",
            " 0.67075163 0.65196078 0.63112745 0.61294935 0.6376634  0.62254902\n",
            " 0.62745098 0.63337418 0.62642974 0.63623366 0.58312908 0.57781863\n",
            " 0.57230392 0.58006536 0.57618464 0.55167484 0.57883987 0.625\n",
            " 0.63582516 0.62949346 0.62888072 0.62765523 0.62234477 0.63378268\n",
            " 0.62622549 0.62214052 0.62418301 0.61993384 0.60529619 0.585953\n",
            " 0.57238728 0.56517309 0.55998671 0.55450851]\n",
            "Day 7 output [[0.54927015]]\n",
            "Day 8 input [0.6689134  0.66421569 0.67892157 0.69138072 0.70894608 0.72263072\n",
            " 0.73406863 0.72120098 0.74979575 0.7689951  0.74468954 0.7120098\n",
            " 0.74673203 0.75490196 0.76041667 0.75980392 0.74652778 0.76245915\n",
            " 0.77062908 0.80412582 0.78104575 0.79411765 0.76021242 0.73488562\n",
            " 0.72406046 0.73999183 0.74979575 0.76143791 0.75428922 0.74754902\n",
            " 0.76960784 0.7495915  0.81719771 0.80208333 0.77736928 0.75714869\n",
            " 0.79370915 0.79166667 0.77144608 0.75265523 0.72691993 0.6629902\n",
            " 0.68198529 0.64419935 0.62152778 0.6439951  0.66319444 0.67544935\n",
            " 0.63705065 0.64603758 0.65890523 0.65870098 0.67790033 0.63194444\n",
            " 0.63112745 0.62785948 0.64767157 0.63991013 0.63480392 0.63868464\n",
            " 0.62336601 0.62745098 0.63970588 0.64705882 0.66196895 0.67075163\n",
            " 0.65196078 0.63112745 0.61294935 0.6376634  0.62254902 0.62745098\n",
            " 0.63337418 0.62642974 0.63623366 0.58312908 0.57781863 0.57230392\n",
            " 0.58006536 0.57618464 0.55167484 0.57883987 0.625      0.63582516\n",
            " 0.62949346 0.62888072 0.62765523 0.62234477 0.63378268 0.62622549\n",
            " 0.62214052 0.62418301 0.61993384 0.60529619 0.585953   0.57238728\n",
            " 0.56517309 0.55998671 0.55450851 0.54927015]\n",
            "Day 8 output [[0.545321]]\n",
            "Day 9 input [0.66421569 0.67892157 0.69138072 0.70894608 0.72263072 0.73406863\n",
            " 0.72120098 0.74979575 0.7689951  0.74468954 0.7120098  0.74673203\n",
            " 0.75490196 0.76041667 0.75980392 0.74652778 0.76245915 0.77062908\n",
            " 0.80412582 0.78104575 0.79411765 0.76021242 0.73488562 0.72406046\n",
            " 0.73999183 0.74979575 0.76143791 0.75428922 0.74754902 0.76960784\n",
            " 0.7495915  0.81719771 0.80208333 0.77736928 0.75714869 0.79370915\n",
            " 0.79166667 0.77144608 0.75265523 0.72691993 0.6629902  0.68198529\n",
            " 0.64419935 0.62152778 0.6439951  0.66319444 0.67544935 0.63705065\n",
            " 0.64603758 0.65890523 0.65870098 0.67790033 0.63194444 0.63112745\n",
            " 0.62785948 0.64767157 0.63991013 0.63480392 0.63868464 0.62336601\n",
            " 0.62745098 0.63970588 0.64705882 0.66196895 0.67075163 0.65196078\n",
            " 0.63112745 0.61294935 0.6376634  0.62254902 0.62745098 0.63337418\n",
            " 0.62642974 0.63623366 0.58312908 0.57781863 0.57230392 0.58006536\n",
            " 0.57618464 0.55167484 0.57883987 0.625      0.63582516 0.62949346\n",
            " 0.62888072 0.62765523 0.62234477 0.63378268 0.62622549 0.62214052\n",
            " 0.62418301 0.61993384 0.60529619 0.585953   0.57238728 0.56517309\n",
            " 0.55998671 0.55450851 0.54927015 0.54532099]\n",
            "Day 9 output [[0.5427946]]\n",
            "Day 10 input [0.67892157 0.69138072 0.70894608 0.72263072 0.73406863 0.72120098\n",
            " 0.74979575 0.7689951  0.74468954 0.7120098  0.74673203 0.75490196\n",
            " 0.76041667 0.75980392 0.74652778 0.76245915 0.77062908 0.80412582\n",
            " 0.78104575 0.79411765 0.76021242 0.73488562 0.72406046 0.73999183\n",
            " 0.74979575 0.76143791 0.75428922 0.74754902 0.76960784 0.7495915\n",
            " 0.81719771 0.80208333 0.77736928 0.75714869 0.79370915 0.79166667\n",
            " 0.77144608 0.75265523 0.72691993 0.6629902  0.68198529 0.64419935\n",
            " 0.62152778 0.6439951  0.66319444 0.67544935 0.63705065 0.64603758\n",
            " 0.65890523 0.65870098 0.67790033 0.63194444 0.63112745 0.62785948\n",
            " 0.64767157 0.63991013 0.63480392 0.63868464 0.62336601 0.62745098\n",
            " 0.63970588 0.64705882 0.66196895 0.67075163 0.65196078 0.63112745\n",
            " 0.61294935 0.6376634  0.62254902 0.62745098 0.63337418 0.62642974\n",
            " 0.63623366 0.58312908 0.57781863 0.57230392 0.58006536 0.57618464\n",
            " 0.55167484 0.57883987 0.625      0.63582516 0.62949346 0.62888072\n",
            " 0.62765523 0.62234477 0.63378268 0.62622549 0.62214052 0.62418301\n",
            " 0.61993384 0.60529619 0.585953   0.57238728 0.56517309 0.55998671\n",
            " 0.55450851 0.54927015 0.54532099 0.54279459]\n",
            "Day 10 output [[0.54116803]]\n",
            "Day 11 input [0.69138072 0.70894608 0.72263072 0.73406863 0.72120098 0.74979575\n",
            " 0.7689951  0.74468954 0.7120098  0.74673203 0.75490196 0.76041667\n",
            " 0.75980392 0.74652778 0.76245915 0.77062908 0.80412582 0.78104575\n",
            " 0.79411765 0.76021242 0.73488562 0.72406046 0.73999183 0.74979575\n",
            " 0.76143791 0.75428922 0.74754902 0.76960784 0.7495915  0.81719771\n",
            " 0.80208333 0.77736928 0.75714869 0.79370915 0.79166667 0.77144608\n",
            " 0.75265523 0.72691993 0.6629902  0.68198529 0.64419935 0.62152778\n",
            " 0.6439951  0.66319444 0.67544935 0.63705065 0.64603758 0.65890523\n",
            " 0.65870098 0.67790033 0.63194444 0.63112745 0.62785948 0.64767157\n",
            " 0.63991013 0.63480392 0.63868464 0.62336601 0.62745098 0.63970588\n",
            " 0.64705882 0.66196895 0.67075163 0.65196078 0.63112745 0.61294935\n",
            " 0.6376634  0.62254902 0.62745098 0.63337418 0.62642974 0.63623366\n",
            " 0.58312908 0.57781863 0.57230392 0.58006536 0.57618464 0.55167484\n",
            " 0.57883987 0.625      0.63582516 0.62949346 0.62888072 0.62765523\n",
            " 0.62234477 0.63378268 0.62622549 0.62214052 0.62418301 0.61993384\n",
            " 0.60529619 0.585953   0.57238728 0.56517309 0.55998671 0.55450851\n",
            " 0.54927015 0.54532099 0.54279459 0.54116803]\n",
            "Day 11 output [[0.5399615]]\n",
            "Day 12 input [0.70894608 0.72263072 0.73406863 0.72120098 0.74979575 0.7689951\n",
            " 0.74468954 0.7120098  0.74673203 0.75490196 0.76041667 0.75980392\n",
            " 0.74652778 0.76245915 0.77062908 0.80412582 0.78104575 0.79411765\n",
            " 0.76021242 0.73488562 0.72406046 0.73999183 0.74979575 0.76143791\n",
            " 0.75428922 0.74754902 0.76960784 0.7495915  0.81719771 0.80208333\n",
            " 0.77736928 0.75714869 0.79370915 0.79166667 0.77144608 0.75265523\n",
            " 0.72691993 0.6629902  0.68198529 0.64419935 0.62152778 0.6439951\n",
            " 0.66319444 0.67544935 0.63705065 0.64603758 0.65890523 0.65870098\n",
            " 0.67790033 0.63194444 0.63112745 0.62785948 0.64767157 0.63991013\n",
            " 0.63480392 0.63868464 0.62336601 0.62745098 0.63970588 0.64705882\n",
            " 0.66196895 0.67075163 0.65196078 0.63112745 0.61294935 0.6376634\n",
            " 0.62254902 0.62745098 0.63337418 0.62642974 0.63623366 0.58312908\n",
            " 0.57781863 0.57230392 0.58006536 0.57618464 0.55167484 0.57883987\n",
            " 0.625      0.63582516 0.62949346 0.62888072 0.62765523 0.62234477\n",
            " 0.63378268 0.62622549 0.62214052 0.62418301 0.61993384 0.60529619\n",
            " 0.585953   0.57238728 0.56517309 0.55998671 0.55450851 0.54927015\n",
            " 0.54532099 0.54279459 0.54116803 0.53996152]\n",
            "Day 12 output [[0.53898895]]\n",
            "Day 13 input [0.72263072 0.73406863 0.72120098 0.74979575 0.7689951  0.74468954\n",
            " 0.7120098  0.74673203 0.75490196 0.76041667 0.75980392 0.74652778\n",
            " 0.76245915 0.77062908 0.80412582 0.78104575 0.79411765 0.76021242\n",
            " 0.73488562 0.72406046 0.73999183 0.74979575 0.76143791 0.75428922\n",
            " 0.74754902 0.76960784 0.7495915  0.81719771 0.80208333 0.77736928\n",
            " 0.75714869 0.79370915 0.79166667 0.77144608 0.75265523 0.72691993\n",
            " 0.6629902  0.68198529 0.64419935 0.62152778 0.6439951  0.66319444\n",
            " 0.67544935 0.63705065 0.64603758 0.65890523 0.65870098 0.67790033\n",
            " 0.63194444 0.63112745 0.62785948 0.64767157 0.63991013 0.63480392\n",
            " 0.63868464 0.62336601 0.62745098 0.63970588 0.64705882 0.66196895\n",
            " 0.67075163 0.65196078 0.63112745 0.61294935 0.6376634  0.62254902\n",
            " 0.62745098 0.63337418 0.62642974 0.63623366 0.58312908 0.57781863\n",
            " 0.57230392 0.58006536 0.57618464 0.55167484 0.57883987 0.625\n",
            " 0.63582516 0.62949346 0.62888072 0.62765523 0.62234477 0.63378268\n",
            " 0.62622549 0.62214052 0.62418301 0.61993384 0.60529619 0.585953\n",
            " 0.57238728 0.56517309 0.55998671 0.55450851 0.54927015 0.54532099\n",
            " 0.54279459 0.54116803 0.53996152 0.53898895]\n",
            "Day 13 output [[0.5382174]]\n",
            "Day 14 input [0.73406863 0.72120098 0.74979575 0.7689951  0.74468954 0.7120098\n",
            " 0.74673203 0.75490196 0.76041667 0.75980392 0.74652778 0.76245915\n",
            " 0.77062908 0.80412582 0.78104575 0.79411765 0.76021242 0.73488562\n",
            " 0.72406046 0.73999183 0.74979575 0.76143791 0.75428922 0.74754902\n",
            " 0.76960784 0.7495915  0.81719771 0.80208333 0.77736928 0.75714869\n",
            " 0.79370915 0.79166667 0.77144608 0.75265523 0.72691993 0.6629902\n",
            " 0.68198529 0.64419935 0.62152778 0.6439951  0.66319444 0.67544935\n",
            " 0.63705065 0.64603758 0.65890523 0.65870098 0.67790033 0.63194444\n",
            " 0.63112745 0.62785948 0.64767157 0.63991013 0.63480392 0.63868464\n",
            " 0.62336601 0.62745098 0.63970588 0.64705882 0.66196895 0.67075163\n",
            " 0.65196078 0.63112745 0.61294935 0.6376634  0.62254902 0.62745098\n",
            " 0.63337418 0.62642974 0.63623366 0.58312908 0.57781863 0.57230392\n",
            " 0.58006536 0.57618464 0.55167484 0.57883987 0.625      0.63582516\n",
            " 0.62949346 0.62888072 0.62765523 0.62234477 0.63378268 0.62622549\n",
            " 0.62214052 0.62418301 0.61993384 0.60529619 0.585953   0.57238728\n",
            " 0.56517309 0.55998671 0.55450851 0.54927015 0.54532099 0.54279459\n",
            " 0.54116803 0.53996152 0.53898895 0.53821743]\n",
            "Day 14 output [[0.53760237]]\n",
            "Day 15 input [0.72120098 0.74979575 0.7689951  0.74468954 0.7120098  0.74673203\n",
            " 0.75490196 0.76041667 0.75980392 0.74652778 0.76245915 0.77062908\n",
            " 0.80412582 0.78104575 0.79411765 0.76021242 0.73488562 0.72406046\n",
            " 0.73999183 0.74979575 0.76143791 0.75428922 0.74754902 0.76960784\n",
            " 0.7495915  0.81719771 0.80208333 0.77736928 0.75714869 0.79370915\n",
            " 0.79166667 0.77144608 0.75265523 0.72691993 0.6629902  0.68198529\n",
            " 0.64419935 0.62152778 0.6439951  0.66319444 0.67544935 0.63705065\n",
            " 0.64603758 0.65890523 0.65870098 0.67790033 0.63194444 0.63112745\n",
            " 0.62785948 0.64767157 0.63991013 0.63480392 0.63868464 0.62336601\n",
            " 0.62745098 0.63970588 0.64705882 0.66196895 0.67075163 0.65196078\n",
            " 0.63112745 0.61294935 0.6376634  0.62254902 0.62745098 0.63337418\n",
            " 0.62642974 0.63623366 0.58312908 0.57781863 0.57230392 0.58006536\n",
            " 0.57618464 0.55167484 0.57883987 0.625      0.63582516 0.62949346\n",
            " 0.62888072 0.62765523 0.62234477 0.63378268 0.62622549 0.62214052\n",
            " 0.62418301 0.61993384 0.60529619 0.585953   0.57238728 0.56517309\n",
            " 0.55998671 0.55450851 0.54927015 0.54532099 0.54279459 0.54116803\n",
            " 0.53996152 0.53898895 0.53821743 0.53760237]\n",
            "Day 15 output [[0.53705746]]\n",
            "Day 16 input [0.74979575 0.7689951  0.74468954 0.7120098  0.74673203 0.75490196\n",
            " 0.76041667 0.75980392 0.74652778 0.76245915 0.77062908 0.80412582\n",
            " 0.78104575 0.79411765 0.76021242 0.73488562 0.72406046 0.73999183\n",
            " 0.74979575 0.76143791 0.75428922 0.74754902 0.76960784 0.7495915\n",
            " 0.81719771 0.80208333 0.77736928 0.75714869 0.79370915 0.79166667\n",
            " 0.77144608 0.75265523 0.72691993 0.6629902  0.68198529 0.64419935\n",
            " 0.62152778 0.6439951  0.66319444 0.67544935 0.63705065 0.64603758\n",
            " 0.65890523 0.65870098 0.67790033 0.63194444 0.63112745 0.62785948\n",
            " 0.64767157 0.63991013 0.63480392 0.63868464 0.62336601 0.62745098\n",
            " 0.63970588 0.64705882 0.66196895 0.67075163 0.65196078 0.63112745\n",
            " 0.61294935 0.6376634  0.62254902 0.62745098 0.63337418 0.62642974\n",
            " 0.63623366 0.58312908 0.57781863 0.57230392 0.58006536 0.57618464\n",
            " 0.55167484 0.57883987 0.625      0.63582516 0.62949346 0.62888072\n",
            " 0.62765523 0.62234477 0.63378268 0.62622549 0.62214052 0.62418301\n",
            " 0.61993384 0.60529619 0.585953   0.57238728 0.56517309 0.55998671\n",
            " 0.55450851 0.54927015 0.54532099 0.54279459 0.54116803 0.53996152\n",
            " 0.53898895 0.53821743 0.53760237 0.53705746]\n",
            "Day 16 output [[0.53650075]]\n",
            "Day 17 input [0.7689951  0.74468954 0.7120098  0.74673203 0.75490196 0.76041667\n",
            " 0.75980392 0.74652778 0.76245915 0.77062908 0.80412582 0.78104575\n",
            " 0.79411765 0.76021242 0.73488562 0.72406046 0.73999183 0.74979575\n",
            " 0.76143791 0.75428922 0.74754902 0.76960784 0.7495915  0.81719771\n",
            " 0.80208333 0.77736928 0.75714869 0.79370915 0.79166667 0.77144608\n",
            " 0.75265523 0.72691993 0.6629902  0.68198529 0.64419935 0.62152778\n",
            " 0.6439951  0.66319444 0.67544935 0.63705065 0.64603758 0.65890523\n",
            " 0.65870098 0.67790033 0.63194444 0.63112745 0.62785948 0.64767157\n",
            " 0.63991013 0.63480392 0.63868464 0.62336601 0.62745098 0.63970588\n",
            " 0.64705882 0.66196895 0.67075163 0.65196078 0.63112745 0.61294935\n",
            " 0.6376634  0.62254902 0.62745098 0.63337418 0.62642974 0.63623366\n",
            " 0.58312908 0.57781863 0.57230392 0.58006536 0.57618464 0.55167484\n",
            " 0.57883987 0.625      0.63582516 0.62949346 0.62888072 0.62765523\n",
            " 0.62234477 0.63378268 0.62622549 0.62214052 0.62418301 0.61993384\n",
            " 0.60529619 0.585953   0.57238728 0.56517309 0.55998671 0.55450851\n",
            " 0.54927015 0.54532099 0.54279459 0.54116803 0.53996152 0.53898895\n",
            " 0.53821743 0.53760237 0.53705746 0.53650075]\n",
            "Day 17 output [[0.5358871]]\n",
            "Day 18 input [0.74468954 0.7120098  0.74673203 0.75490196 0.76041667 0.75980392\n",
            " 0.74652778 0.76245915 0.77062908 0.80412582 0.78104575 0.79411765\n",
            " 0.76021242 0.73488562 0.72406046 0.73999183 0.74979575 0.76143791\n",
            " 0.75428922 0.74754902 0.76960784 0.7495915  0.81719771 0.80208333\n",
            " 0.77736928 0.75714869 0.79370915 0.79166667 0.77144608 0.75265523\n",
            " 0.72691993 0.6629902  0.68198529 0.64419935 0.62152778 0.6439951\n",
            " 0.66319444 0.67544935 0.63705065 0.64603758 0.65890523 0.65870098\n",
            " 0.67790033 0.63194444 0.63112745 0.62785948 0.64767157 0.63991013\n",
            " 0.63480392 0.63868464 0.62336601 0.62745098 0.63970588 0.64705882\n",
            " 0.66196895 0.67075163 0.65196078 0.63112745 0.61294935 0.6376634\n",
            " 0.62254902 0.62745098 0.63337418 0.62642974 0.63623366 0.58312908\n",
            " 0.57781863 0.57230392 0.58006536 0.57618464 0.55167484 0.57883987\n",
            " 0.625      0.63582516 0.62949346 0.62888072 0.62765523 0.62234477\n",
            " 0.63378268 0.62622549 0.62214052 0.62418301 0.61993384 0.60529619\n",
            " 0.585953   0.57238728 0.56517309 0.55998671 0.55450851 0.54927015\n",
            " 0.54532099 0.54279459 0.54116803 0.53996152 0.53898895 0.53821743\n",
            " 0.53760237 0.53705746 0.53650075 0.53588712]\n",
            "Day 18 output [[0.53520477]]\n",
            "Day 19 input [0.7120098  0.74673203 0.75490196 0.76041667 0.75980392 0.74652778\n",
            " 0.76245915 0.77062908 0.80412582 0.78104575 0.79411765 0.76021242\n",
            " 0.73488562 0.72406046 0.73999183 0.74979575 0.76143791 0.75428922\n",
            " 0.74754902 0.76960784 0.7495915  0.81719771 0.80208333 0.77736928\n",
            " 0.75714869 0.79370915 0.79166667 0.77144608 0.75265523 0.72691993\n",
            " 0.6629902  0.68198529 0.64419935 0.62152778 0.6439951  0.66319444\n",
            " 0.67544935 0.63705065 0.64603758 0.65890523 0.65870098 0.67790033\n",
            " 0.63194444 0.63112745 0.62785948 0.64767157 0.63991013 0.63480392\n",
            " 0.63868464 0.62336601 0.62745098 0.63970588 0.64705882 0.66196895\n",
            " 0.67075163 0.65196078 0.63112745 0.61294935 0.6376634  0.62254902\n",
            " 0.62745098 0.63337418 0.62642974 0.63623366 0.58312908 0.57781863\n",
            " 0.57230392 0.58006536 0.57618464 0.55167484 0.57883987 0.625\n",
            " 0.63582516 0.62949346 0.62888072 0.62765523 0.62234477 0.63378268\n",
            " 0.62622549 0.62214052 0.62418301 0.61993384 0.60529619 0.585953\n",
            " 0.57238728 0.56517309 0.55998671 0.55450851 0.54927015 0.54532099\n",
            " 0.54279459 0.54116803 0.53996152 0.53898895 0.53821743 0.53760237\n",
            " 0.53705746 0.53650075 0.53588712 0.53520477]\n",
            "Day 19 output [[0.5344575]]\n",
            "Day 20 input [0.74673203 0.75490196 0.76041667 0.75980392 0.74652778 0.76245915\n",
            " 0.77062908 0.80412582 0.78104575 0.79411765 0.76021242 0.73488562\n",
            " 0.72406046 0.73999183 0.74979575 0.76143791 0.75428922 0.74754902\n",
            " 0.76960784 0.7495915  0.81719771 0.80208333 0.77736928 0.75714869\n",
            " 0.79370915 0.79166667 0.77144608 0.75265523 0.72691993 0.6629902\n",
            " 0.68198529 0.64419935 0.62152778 0.6439951  0.66319444 0.67544935\n",
            " 0.63705065 0.64603758 0.65890523 0.65870098 0.67790033 0.63194444\n",
            " 0.63112745 0.62785948 0.64767157 0.63991013 0.63480392 0.63868464\n",
            " 0.62336601 0.62745098 0.63970588 0.64705882 0.66196895 0.67075163\n",
            " 0.65196078 0.63112745 0.61294935 0.6376634  0.62254902 0.62745098\n",
            " 0.63337418 0.62642974 0.63623366 0.58312908 0.57781863 0.57230392\n",
            " 0.58006536 0.57618464 0.55167484 0.57883987 0.625      0.63582516\n",
            " 0.62949346 0.62888072 0.62765523 0.62234477 0.63378268 0.62622549\n",
            " 0.62214052 0.62418301 0.61993384 0.60529619 0.585953   0.57238728\n",
            " 0.56517309 0.55998671 0.55450851 0.54927015 0.54532099 0.54279459\n",
            " 0.54116803 0.53996152 0.53898895 0.53821743 0.53760237 0.53705746\n",
            " 0.53650075 0.53588712 0.53520477 0.5344575 ]\n",
            "Day 20 output [[0.53365386]]\n",
            "Day 21 input [0.75490196 0.76041667 0.75980392 0.74652778 0.76245915 0.77062908\n",
            " 0.80412582 0.78104575 0.79411765 0.76021242 0.73488562 0.72406046\n",
            " 0.73999183 0.74979575 0.76143791 0.75428922 0.74754902 0.76960784\n",
            " 0.7495915  0.81719771 0.80208333 0.77736928 0.75714869 0.79370915\n",
            " 0.79166667 0.77144608 0.75265523 0.72691993 0.6629902  0.68198529\n",
            " 0.64419935 0.62152778 0.6439951  0.66319444 0.67544935 0.63705065\n",
            " 0.64603758 0.65890523 0.65870098 0.67790033 0.63194444 0.63112745\n",
            " 0.62785948 0.64767157 0.63991013 0.63480392 0.63868464 0.62336601\n",
            " 0.62745098 0.63970588 0.64705882 0.66196895 0.67075163 0.65196078\n",
            " 0.63112745 0.61294935 0.6376634  0.62254902 0.62745098 0.63337418\n",
            " 0.62642974 0.63623366 0.58312908 0.57781863 0.57230392 0.58006536\n",
            " 0.57618464 0.55167484 0.57883987 0.625      0.63582516 0.62949346\n",
            " 0.62888072 0.62765523 0.62234477 0.63378268 0.62622549 0.62214052\n",
            " 0.62418301 0.61993384 0.60529619 0.585953   0.57238728 0.56517309\n",
            " 0.55998671 0.55450851 0.54927015 0.54532099 0.54279459 0.54116803\n",
            " 0.53996152 0.53898895 0.53821743 0.53760237 0.53705746 0.53650075\n",
            " 0.53588712 0.53520477 0.5344575  0.53365386]\n",
            "Day 21 output [[0.5328051]]\n",
            "Day 22 input [0.76041667 0.75980392 0.74652778 0.76245915 0.77062908 0.80412582\n",
            " 0.78104575 0.79411765 0.76021242 0.73488562 0.72406046 0.73999183\n",
            " 0.74979575 0.76143791 0.75428922 0.74754902 0.76960784 0.7495915\n",
            " 0.81719771 0.80208333 0.77736928 0.75714869 0.79370915 0.79166667\n",
            " 0.77144608 0.75265523 0.72691993 0.6629902  0.68198529 0.64419935\n",
            " 0.62152778 0.6439951  0.66319444 0.67544935 0.63705065 0.64603758\n",
            " 0.65890523 0.65870098 0.67790033 0.63194444 0.63112745 0.62785948\n",
            " 0.64767157 0.63991013 0.63480392 0.63868464 0.62336601 0.62745098\n",
            " 0.63970588 0.64705882 0.66196895 0.67075163 0.65196078 0.63112745\n",
            " 0.61294935 0.6376634  0.62254902 0.62745098 0.63337418 0.62642974\n",
            " 0.63623366 0.58312908 0.57781863 0.57230392 0.58006536 0.57618464\n",
            " 0.55167484 0.57883987 0.625      0.63582516 0.62949346 0.62888072\n",
            " 0.62765523 0.62234477 0.63378268 0.62622549 0.62214052 0.62418301\n",
            " 0.61993384 0.60529619 0.585953   0.57238728 0.56517309 0.55998671\n",
            " 0.55450851 0.54927015 0.54532099 0.54279459 0.54116803 0.53996152\n",
            " 0.53898895 0.53821743 0.53760237 0.53705746 0.53650075 0.53588712\n",
            " 0.53520477 0.5344575  0.53365386 0.53280509]\n",
            "Day 22 output [[0.5319254]]\n",
            "Day 23 input [0.75980392 0.74652778 0.76245915 0.77062908 0.80412582 0.78104575\n",
            " 0.79411765 0.76021242 0.73488562 0.72406046 0.73999183 0.74979575\n",
            " 0.76143791 0.75428922 0.74754902 0.76960784 0.7495915  0.81719771\n",
            " 0.80208333 0.77736928 0.75714869 0.79370915 0.79166667 0.77144608\n",
            " 0.75265523 0.72691993 0.6629902  0.68198529 0.64419935 0.62152778\n",
            " 0.6439951  0.66319444 0.67544935 0.63705065 0.64603758 0.65890523\n",
            " 0.65870098 0.67790033 0.63194444 0.63112745 0.62785948 0.64767157\n",
            " 0.63991013 0.63480392 0.63868464 0.62336601 0.62745098 0.63970588\n",
            " 0.64705882 0.66196895 0.67075163 0.65196078 0.63112745 0.61294935\n",
            " 0.6376634  0.62254902 0.62745098 0.63337418 0.62642974 0.63623366\n",
            " 0.58312908 0.57781863 0.57230392 0.58006536 0.57618464 0.55167484\n",
            " 0.57883987 0.625      0.63582516 0.62949346 0.62888072 0.62765523\n",
            " 0.62234477 0.63378268 0.62622549 0.62214052 0.62418301 0.61993384\n",
            " 0.60529619 0.585953   0.57238728 0.56517309 0.55998671 0.55450851\n",
            " 0.54927015 0.54532099 0.54279459 0.54116803 0.53996152 0.53898895\n",
            " 0.53821743 0.53760237 0.53705746 0.53650075 0.53588712 0.53520477\n",
            " 0.5344575  0.53365386 0.53280509 0.53192538]\n",
            "Day 23 output [[0.53103095]]\n",
            "Day 24 input [0.74652778 0.76245915 0.77062908 0.80412582 0.78104575 0.79411765\n",
            " 0.76021242 0.73488562 0.72406046 0.73999183 0.74979575 0.76143791\n",
            " 0.75428922 0.74754902 0.76960784 0.7495915  0.81719771 0.80208333\n",
            " 0.77736928 0.75714869 0.79370915 0.79166667 0.77144608 0.75265523\n",
            " 0.72691993 0.6629902  0.68198529 0.64419935 0.62152778 0.6439951\n",
            " 0.66319444 0.67544935 0.63705065 0.64603758 0.65890523 0.65870098\n",
            " 0.67790033 0.63194444 0.63112745 0.62785948 0.64767157 0.63991013\n",
            " 0.63480392 0.63868464 0.62336601 0.62745098 0.63970588 0.64705882\n",
            " 0.66196895 0.67075163 0.65196078 0.63112745 0.61294935 0.6376634\n",
            " 0.62254902 0.62745098 0.63337418 0.62642974 0.63623366 0.58312908\n",
            " 0.57781863 0.57230392 0.58006536 0.57618464 0.55167484 0.57883987\n",
            " 0.625      0.63582516 0.62949346 0.62888072 0.62765523 0.62234477\n",
            " 0.63378268 0.62622549 0.62214052 0.62418301 0.61993384 0.60529619\n",
            " 0.585953   0.57238728 0.56517309 0.55998671 0.55450851 0.54927015\n",
            " 0.54532099 0.54279459 0.54116803 0.53996152 0.53898895 0.53821743\n",
            " 0.53760237 0.53705746 0.53650075 0.53588712 0.53520477 0.5344575\n",
            " 0.53365386 0.53280509 0.53192538 0.53103095]\n",
            "Day 24 output [[0.5301374]]\n",
            "Day 25 input [0.76245915 0.77062908 0.80412582 0.78104575 0.79411765 0.76021242\n",
            " 0.73488562 0.72406046 0.73999183 0.74979575 0.76143791 0.75428922\n",
            " 0.74754902 0.76960784 0.7495915  0.81719771 0.80208333 0.77736928\n",
            " 0.75714869 0.79370915 0.79166667 0.77144608 0.75265523 0.72691993\n",
            " 0.6629902  0.68198529 0.64419935 0.62152778 0.6439951  0.66319444\n",
            " 0.67544935 0.63705065 0.64603758 0.65890523 0.65870098 0.67790033\n",
            " 0.63194444 0.63112745 0.62785948 0.64767157 0.63991013 0.63480392\n",
            " 0.63868464 0.62336601 0.62745098 0.63970588 0.64705882 0.66196895\n",
            " 0.67075163 0.65196078 0.63112745 0.61294935 0.6376634  0.62254902\n",
            " 0.62745098 0.63337418 0.62642974 0.63623366 0.58312908 0.57781863\n",
            " 0.57230392 0.58006536 0.57618464 0.55167484 0.57883987 0.625\n",
            " 0.63582516 0.62949346 0.62888072 0.62765523 0.62234477 0.63378268\n",
            " 0.62622549 0.62214052 0.62418301 0.61993384 0.60529619 0.585953\n",
            " 0.57238728 0.56517309 0.55998671 0.55450851 0.54927015 0.54532099\n",
            " 0.54279459 0.54116803 0.53996152 0.53898895 0.53821743 0.53760237\n",
            " 0.53705746 0.53650075 0.53588712 0.53520477 0.5344575  0.53365386\n",
            " 0.53280509 0.53192538 0.53103095 0.53013742]\n",
            "Day 25 output [[0.5292588]]\n",
            "Day 26 input [0.77062908 0.80412582 0.78104575 0.79411765 0.76021242 0.73488562\n",
            " 0.72406046 0.73999183 0.74979575 0.76143791 0.75428922 0.74754902\n",
            " 0.76960784 0.7495915  0.81719771 0.80208333 0.77736928 0.75714869\n",
            " 0.79370915 0.79166667 0.77144608 0.75265523 0.72691993 0.6629902\n",
            " 0.68198529 0.64419935 0.62152778 0.6439951  0.66319444 0.67544935\n",
            " 0.63705065 0.64603758 0.65890523 0.65870098 0.67790033 0.63194444\n",
            " 0.63112745 0.62785948 0.64767157 0.63991013 0.63480392 0.63868464\n",
            " 0.62336601 0.62745098 0.63970588 0.64705882 0.66196895 0.67075163\n",
            " 0.65196078 0.63112745 0.61294935 0.6376634  0.62254902 0.62745098\n",
            " 0.63337418 0.62642974 0.63623366 0.58312908 0.57781863 0.57230392\n",
            " 0.58006536 0.57618464 0.55167484 0.57883987 0.625      0.63582516\n",
            " 0.62949346 0.62888072 0.62765523 0.62234477 0.63378268 0.62622549\n",
            " 0.62214052 0.62418301 0.61993384 0.60529619 0.585953   0.57238728\n",
            " 0.56517309 0.55998671 0.55450851 0.54927015 0.54532099 0.54279459\n",
            " 0.54116803 0.53996152 0.53898895 0.53821743 0.53760237 0.53705746\n",
            " 0.53650075 0.53588712 0.53520477 0.5344575  0.53365386 0.53280509\n",
            " 0.53192538 0.53103095 0.53013742 0.52925879]\n",
            "Day 26 output [[0.5284055]]\n",
            "Day 27 input [0.80412582 0.78104575 0.79411765 0.76021242 0.73488562 0.72406046\n",
            " 0.73999183 0.74979575 0.76143791 0.75428922 0.74754902 0.76960784\n",
            " 0.7495915  0.81719771 0.80208333 0.77736928 0.75714869 0.79370915\n",
            " 0.79166667 0.77144608 0.75265523 0.72691993 0.6629902  0.68198529\n",
            " 0.64419935 0.62152778 0.6439951  0.66319444 0.67544935 0.63705065\n",
            " 0.64603758 0.65890523 0.65870098 0.67790033 0.63194444 0.63112745\n",
            " 0.62785948 0.64767157 0.63991013 0.63480392 0.63868464 0.62336601\n",
            " 0.62745098 0.63970588 0.64705882 0.66196895 0.67075163 0.65196078\n",
            " 0.63112745 0.61294935 0.6376634  0.62254902 0.62745098 0.63337418\n",
            " 0.62642974 0.63623366 0.58312908 0.57781863 0.57230392 0.58006536\n",
            " 0.57618464 0.55167484 0.57883987 0.625      0.63582516 0.62949346\n",
            " 0.62888072 0.62765523 0.62234477 0.63378268 0.62622549 0.62214052\n",
            " 0.62418301 0.61993384 0.60529619 0.585953   0.57238728 0.56517309\n",
            " 0.55998671 0.55450851 0.54927015 0.54532099 0.54279459 0.54116803\n",
            " 0.53996152 0.53898895 0.53821743 0.53760237 0.53705746 0.53650075\n",
            " 0.53588712 0.53520477 0.5344575  0.53365386 0.53280509 0.53192538\n",
            " 0.53103095 0.53013742 0.52925879 0.52840549]\n",
            "Day 27 output [[0.52758545]]\n",
            "Day 28 input [0.78104575 0.79411765 0.76021242 0.73488562 0.72406046 0.73999183\n",
            " 0.74979575 0.76143791 0.75428922 0.74754902 0.76960784 0.7495915\n",
            " 0.81719771 0.80208333 0.77736928 0.75714869 0.79370915 0.79166667\n",
            " 0.77144608 0.75265523 0.72691993 0.6629902  0.68198529 0.64419935\n",
            " 0.62152778 0.6439951  0.66319444 0.67544935 0.63705065 0.64603758\n",
            " 0.65890523 0.65870098 0.67790033 0.63194444 0.63112745 0.62785948\n",
            " 0.64767157 0.63991013 0.63480392 0.63868464 0.62336601 0.62745098\n",
            " 0.63970588 0.64705882 0.66196895 0.67075163 0.65196078 0.63112745\n",
            " 0.61294935 0.6376634  0.62254902 0.62745098 0.63337418 0.62642974\n",
            " 0.63623366 0.58312908 0.57781863 0.57230392 0.58006536 0.57618464\n",
            " 0.55167484 0.57883987 0.625      0.63582516 0.62949346 0.62888072\n",
            " 0.62765523 0.62234477 0.63378268 0.62622549 0.62214052 0.62418301\n",
            " 0.61993384 0.60529619 0.585953   0.57238728 0.56517309 0.55998671\n",
            " 0.55450851 0.54927015 0.54532099 0.54279459 0.54116803 0.53996152\n",
            " 0.53898895 0.53821743 0.53760237 0.53705746 0.53650075 0.53588712\n",
            " 0.53520477 0.5344575  0.53365386 0.53280509 0.53192538 0.53103095\n",
            " 0.53013742 0.52925879 0.52840549 0.52758545]\n",
            "Day 28 output [[0.5268038]]\n",
            "Day 29 input [0.79411765 0.76021242 0.73488562 0.72406046 0.73999183 0.74979575\n",
            " 0.76143791 0.75428922 0.74754902 0.76960784 0.7495915  0.81719771\n",
            " 0.80208333 0.77736928 0.75714869 0.79370915 0.79166667 0.77144608\n",
            " 0.75265523 0.72691993 0.6629902  0.68198529 0.64419935 0.62152778\n",
            " 0.6439951  0.66319444 0.67544935 0.63705065 0.64603758 0.65890523\n",
            " 0.65870098 0.67790033 0.63194444 0.63112745 0.62785948 0.64767157\n",
            " 0.63991013 0.63480392 0.63868464 0.62336601 0.62745098 0.63970588\n",
            " 0.64705882 0.66196895 0.67075163 0.65196078 0.63112745 0.61294935\n",
            " 0.6376634  0.62254902 0.62745098 0.63337418 0.62642974 0.63623366\n",
            " 0.58312908 0.57781863 0.57230392 0.58006536 0.57618464 0.55167484\n",
            " 0.57883987 0.625      0.63582516 0.62949346 0.62888072 0.62765523\n",
            " 0.62234477 0.63378268 0.62622549 0.62214052 0.62418301 0.61993384\n",
            " 0.60529619 0.585953   0.57238728 0.56517309 0.55998671 0.55450851\n",
            " 0.54927015 0.54532099 0.54279459 0.54116803 0.53996152 0.53898895\n",
            " 0.53821743 0.53760237 0.53705746 0.53650075 0.53588712 0.53520477\n",
            " 0.5344575  0.53365386 0.53280509 0.53192538 0.53103095 0.53013742\n",
            " 0.52925879 0.52840549 0.52758545 0.52680379]\n",
            "Day 29 output [[0.526063]]\n",
            "[[0.6199338436126709], [0.6052961945533752], [0.5859529972076416], [0.5723872780799866], [0.5651730895042419], [0.5599867105484009], [0.5545085072517395], [0.5492701530456543], [0.545320987701416], [0.5427945852279663], [0.5411680340766907], [0.5399615168571472], [0.5389889478683472], [0.5382174253463745], [0.5376023650169373], [0.5370574593544006], [0.5365007519721985], [0.5358871221542358], [0.5352047681808472], [0.5344575047492981], [0.5336538553237915], [0.5328050851821899], [0.53192538022995], [0.5310309529304504], [0.5301374197006226], [0.5292587876319885], [0.528405487537384], [0.5275854468345642], [0.5268037915229797], [0.5260630249977112]]\n"
          ],
          "name": "stdout"
        }
      ]
    },
    {
      "cell_type": "code",
      "metadata": {
        "id": "KA0FEJpzrE2r"
      },
      "source": [
        "new_day = np.arange(1, 101)\n",
        "pred_day = np.arange(101, 131)"
      ],
      "execution_count": 129,
      "outputs": []
    },
    {
      "cell_type": "code",
      "metadata": {
        "colab": {
          "base_uri": "https://localhost:8080/"
        },
        "id": "fgfXmnQ9sjt0",
        "outputId": "9222de2a-8653-4ca3-be88-05c9fb1ba744"
      },
      "source": [
        "len(df)"
      ],
      "execution_count": 130,
      "outputs": [
        {
          "output_type": "execute_result",
          "data": {
            "text/plain": [
              "2035"
            ]
          },
          "metadata": {
            "tags": []
          },
          "execution_count": 130
        }
      ]
    },
    {
      "cell_type": "markdown",
      "metadata": {
        "id": "pwXIguN1pieP"
      },
      "source": [
        "### Plotting the prediction data"
      ]
    },
    {
      "cell_type": "code",
      "metadata": {
        "colab": {
          "base_uri": "https://localhost:8080/",
          "height": 428
        },
        "id": "QZbDH8y_smvu",
        "outputId": "85da448e-95ba-405e-d0ab-9669cbe4012b"
      },
      "source": [
        "plt.figure(figsize=(14, 7))\n",
        "plt.plot(new_day, sc.inverse_transform(df[1935:]))\n",
        "plt.plot(pred_day, sc.inverse_transform(list_output))\n",
        "plt.show()"
      ],
      "execution_count": 131,
      "outputs": [
        {
          "output_type": "display_data",
          "data": {
            "image/png": "[encoded data removed]",
            "text/plain": [
              "<Figure size 1008x504 with 1 Axes>"
            ]
          },
          "metadata": {
            "tags": [],
            "needs_background": "light"
          }
        }
      ]
    },
    {
      "cell_type": "code",
      "metadata": {
        "id": "yUhE4EMFuGrA"
      },
      "source": [
        "df = df.tolist()\n",
        "df.extend(list_output)"
      ],
      "execution_count": 132,
      "outputs": []
    },
    {
      "cell_type": "code",
      "metadata": {
        "colab": {
          "base_uri": "https://localhost:8080/",
          "height": 428
        },
        "id": "MWe5N446vOuZ",
        "outputId": "bf4ffe80-ca39-4edb-9705-70276a8e6a0d"
      },
      "source": [
        "plt.figure(figsize=(14, 7))\n",
        "plt.plot(df[1600:])\n",
        "plt.show()"
      ],
      "execution_count": 133,
      "outputs": [
        {
          "output_type": "display_data",
          "data": {
            "image/png": "[encoded data removed]",
            "text/plain": [
              "<Figure size 1008x504 with 1 Axes>"
            ]
          },
          "metadata": {
            "tags": [],
            "needs_background": "light"
          }
        }
      ]
    }
  ]
}